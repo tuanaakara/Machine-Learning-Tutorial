{
 "cells": [
  {
   "cell_type": "markdown",
   "id": "117b0d53-ad5c-4bfa-a385-64b9a1171e18",
   "metadata": {},
   "source": [
    "1. uygulamamızda python ile print fonksiyon kullanımını göreceğiz.\n",
    "\n",
    "\n",
    "Kullanıcıdan input alarak bu inputlarla bazı işlemler yapacağız.\n",
    "\n",
    "\n",
    "if else statement kullanımını anlayacağız.\n",
    "\n",
    "\n",
    "Listeler ile işlemler yaparak Python programa dilini pekiştireceğiz."
   ]
  },
  {
   "cell_type": "code",
   "execution_count": 1,
   "id": "f92fa03b",
   "metadata": {},
   "outputs": [
    {
     "name": "stdout",
     "output_type": "stream",
     "text": [
      "Bu ilk Jupyter uygulama örneğidir.\n"
     ]
    }
   ],
   "source": [
    "print('Bu ilk Jupyter uygulama örneğidir.')"
   ]
  },
  {
   "cell_type": "code",
   "execution_count": 2,
   "id": "6a7804e9",
   "metadata": {},
   "outputs": [
    {
     "name": "stdout",
     "output_type": "stream",
     "text": [
      "\n"
     ]
    },
    {
     "data": {
      "text/plain": [
       "['__bool__',\n",
       " '__class__',\n",
       " '__delattr__',\n",
       " '__dir__',\n",
       " '__doc__',\n",
       " '__eq__',\n",
       " '__format__',\n",
       " '__ge__',\n",
       " '__getattribute__',\n",
       " '__getstate__',\n",
       " '__gt__',\n",
       " '__hash__',\n",
       " '__init__',\n",
       " '__init_subclass__',\n",
       " '__le__',\n",
       " '__lt__',\n",
       " '__ne__',\n",
       " '__new__',\n",
       " '__reduce__',\n",
       " '__reduce_ex__',\n",
       " '__repr__',\n",
       " '__setattr__',\n",
       " '__sizeof__',\n",
       " '__str__',\n",
       " '__subclasshook__']"
      ]
     },
     "execution_count": 2,
     "metadata": {},
     "output_type": "execute_result"
    }
   ],
   "source": [
    "dir(print())"
   ]
  },
  {
   "cell_type": "code",
   "execution_count": 6,
   "id": "5207d93d",
   "metadata": {},
   "outputs": [
    {
     "name": "stdout",
     "output_type": "stream",
     "text": [
      "girdiğiniz 5, 6 ve 9 değerlerinin toplamı= 20dir\n",
      "Python 10 20\n"
     ]
    }
   ],
   "source": [
    "a=5\n",
    "b=6\n",
    "c=9\n",
    "print(\"girdiğiniz {}, {} ve {} değerlerinin toplamı= {}dir\".format(a,b,c,a+b+c))\n",
    "print(\"{1} {0} {2}\".format(10, \"Python\", 20))"
   ]
  },
  {
   "cell_type": "code",
   "execution_count": 7,
   "id": "ba342707",
   "metadata": {},
   "outputs": [
    {
     "name": "stdout",
     "output_type": "stream",
     "text": [
      "birinci sayıyı giriniz: 2\n",
      "ikinci sayıyı giriniz: 3\n",
      "girdiğiniz sayıların toplamı:  5\n"
     ]
    }
   ],
   "source": [
    "#kullanıcıdan integer sayı alma\n",
    "a=int(input(\"birinci sayıyı giriniz: \"))\n",
    "b=int(input(\"ikinci sayıyı giriniz: \"))\n",
    "print(\"girdiğiniz sayıların toplamı: \", a+b)"
   ]
  },
  {
   "cell_type": "code",
   "execution_count": 8,
   "id": "745abedf",
   "metadata": {},
   "outputs": [
    {
     "name": "stdout",
     "output_type": "stream",
     "text": [
      "birinci sayıyı giriniz: 3\n",
      "ikinci sayıyı giriniz: 2\n",
      "girdiğiniz sayıların toplamı:  32\n"
     ]
    }
   ],
   "source": [
    "#kullanıcıdan input alma\n",
    "a=(input(\"birinci sayıyı giriniz: \"))\n",
    "b=(input(\"ikinci sayıyı giriniz: \"))\n",
    "print(\"girdiğiniz sayıların toplamı: \", a+b)"
   ]
  },
  {
   "cell_type": "markdown",
   "id": "66a2861e-5dd9-4234-a686-16d2426269cd",
   "metadata": {},
   "source": [
    "#### if else kulllanımı"
   ]
  },
  {
   "cell_type": "code",
   "execution_count": 3,
   "id": "f8b9af03",
   "metadata": {},
   "outputs": [
    {
     "name": "stdout",
     "output_type": "stream",
     "text": [
      "tek\n"
     ]
    }
   ],
   "source": [
    "a=5\n",
    "if a%2 == 0: print(\"çift\")\n",
    "else: print(\"tek\")"
   ]
  },
  {
   "cell_type": "code",
   "execution_count": 5,
   "id": "eeb67ae4",
   "metadata": {},
   "outputs": [
    {
     "name": "stdout",
     "output_type": "stream",
     "text": [
      "sayı giriniz: 8\n",
      "çift\n"
     ]
    }
   ],
   "source": [
    "a = int(input('sayı giriniz: '))\n",
    "\n",
    "if a%2 == 0:\n",
    "    print(\"çift\")\n",
    "else:\n",
    "    print(\"tek\")"
   ]
  },
  {
   "cell_type": "code",
   "execution_count": 11,
   "id": "8a4e78cb",
   "metadata": {},
   "outputs": [
    {
     "name": "stdout",
     "output_type": "stream",
     "text": [
      "-5 negatif bir sayı.\n"
     ]
    }
   ],
   "source": [
    "sayi = -5\n",
    "if sayi > 0:\n",
    "    print(sayi, \"pozitif bir sayı.\")\n",
    "else:\n",
    "    print(sayi, \"negatif bir sayı.\")"
   ]
  },
  {
   "cell_type": "code",
   "execution_count": 13,
   "id": "07af8f26",
   "metadata": {},
   "outputs": [
    {
     "name": "stdout",
     "output_type": "stream",
     "text": [
      "Lütfen bir sayı giriniz: 3\n",
      "Girdiğiniz sayı tektir.\n"
     ]
    }
   ],
   "source": [
    "sayi1 = int(input('Lütfen bir sayı giriniz: '))\n",
    "\n",
    "if ((sayi1%2) == 0):\n",
    "    print(\"Girdiğiniz sayı çifttir.\")\n",
    "else:\n",
    "    print(\"Girdiğiniz sayı tektir.\")"
   ]
  },
  {
   "cell_type": "code",
   "execution_count": 2,
   "id": "739ed57b",
   "metadata": {},
   "outputs": [
    {
     "name": "stdout",
     "output_type": "stream",
     "text": [
      "Lütfen sınav puanınızı giriniz: 84\n",
      "iyi\n"
     ]
    }
   ],
   "source": [
    "#sinav_puani gruplama\n",
    "sinav_puani = int(input('Lütfen sınav puanınızı giriniz: '))\n",
    "\n",
    "if  (sinav_puani >= 85):\n",
    "    print(\"pekiyi\")\n",
    "elif (sinav_puani >= 70):\n",
    "    print(\"iyi\")\n",
    "elif (sinav_puani >= 55):\n",
    "    print(\"orta\")\n",
    "elif (sinav_puani >= 45):\n",
    "    print(\"geçer\")\n",
    "else:\n",
    "    print(\"kaldı\")"
   ]
  },
  {
   "cell_type": "code",
   "execution_count": 5,
   "id": "1415b3a9",
   "metadata": {},
   "outputs": [
    {
     "name": "stdout",
     "output_type": "stream",
     "text": [
      "Lütfen bir sayı giriniz: 1\n",
      "Lütfen bir sayı giriniz: 2\n",
      "Lütfen bir sayı giriniz: 3\n",
      "c\n"
     ]
    }
   ],
   "source": [
    "#en büyük sinav_puani bulma\n",
    "a = int(input('Lütfen bir sayı giriniz: '))\n",
    "b = int(input('Lütfen bir sayı giriniz: '))\n",
    "c = int(input('Lütfen bir sayı giriniz: '))\n",
    "\n",
    "if (a > b & a > c):\n",
    "    print(\"a\")\n",
    "elif (b > a & b > c):\n",
    "    print(\"b\")\n",
    "else:\n",
    "    print(\"c\")"
   ]
  },
  {
   "cell_type": "code",
   "execution_count": 15,
   "id": "a7f72961",
   "metadata": {},
   "outputs": [
    {
     "name": "stdout",
     "output_type": "stream",
     "text": [
      "Lütfen bir sayı giriniz: 1\n",
      "Lütfen bir sayı giriniz: 2\n",
      "Lütfen bir sayı giriniz: 3\n",
      "3\n"
     ]
    }
   ],
   "source": [
    "#en büyük sinav_puani bulma\n",
    "a = int(input('Lütfen bir sayı giriniz: '))\n",
    "b = int(input('Lütfen bir sayı giriniz: '))\n",
    "c = int(input('Lütfen bir sayı giriniz: '))\n",
    "\n",
    "if a > b:\n",
    "    if a>c:\n",
    "        print(a)\n",
    "    else:\n",
    "        print(c)\n",
    "        \n",
    "else:\n",
    "    if b > c:\n",
    "        print(b)\n",
    "    else:\n",
    "        print(c)"
   ]
  },
  {
   "cell_type": "code",
   "execution_count": 19,
   "id": "92de2df7",
   "metadata": {},
   "outputs": [
    {
     "name": "stdout",
     "output_type": "stream",
     "text": [
      "M,u,s,t,a,f,a,"
     ]
    }
   ],
   "source": [
    "#isimdeki harfleri virgülle ayırarak yazdırma\n",
    "isim = \"Mustafa\"\n",
    "for i in isim:\n",
    "    print(i, end=\",\")"
   ]
  },
  {
   "cell_type": "code",
   "execution_count": 6,
   "id": "ea01e8d3",
   "metadata": {},
   "outputs": [
    {
     "name": "stdout",
     "output_type": "stream",
     "text": [
      "Bir cumle giriniz: ata bak\n",
      "3\n"
     ]
    }
   ],
   "source": [
    "#cümlede a harfinin toplam sayısını bulma\n",
    "cumle = input(\"Bir cumle giriniz: \")\n",
    "for i in cumle:\n",
    "    print(cumle.count(\"a\"))\n",
    "    break\n",
    "    \n",
    "#sayaç(toplam) kullanarak da yazalım\n",
    "cumle = input(\"Bir cumle giriniz: \")\n",
    "toplam = 0\n",
    "for i in cumle:\n",
    "    if i==\"a\":\n",
    "        toplam+=1\n",
    "        \n",
    "print(\"toplam\", toplam)"
   ]
  },
  {
   "cell_type": "code",
   "execution_count": 18,
   "id": "c5930c0d",
   "metadata": {},
   "outputs": [
    {
     "name": "stdout",
     "output_type": "stream",
     "text": [
      "t\n",
      "u\n",
      "n\n"
     ]
    }
   ],
   "source": [
    "#a'da olup b'de olmayan harfleri yazdırma\n",
    "a = [\"t\", \"u\", \"a\", \"n\", \"k\"]\n",
    "b = [\"k\", \"a\", \"r\"]\n",
    "\n",
    "for i in a:\n",
    "    if not i in b:    #if i not in b: şeklinde de kullanılır\n",
    "        print(i)\n",
    "        "
   ]
  },
  {
   "cell_type": "code",
   "execution_count": 8,
   "id": "9dc56a62",
   "metadata": {},
   "outputs": [
    {
     "name": "stdout",
     "output_type": "stream",
     "text": [
      "Sayilarin toplami:  4950\n"
     ]
    }
   ],
   "source": [
    "#0dan 100e kadar sayıların toplamı\n",
    "toplam=0\n",
    "for i in range (100):\n",
    "    toplam = toplam + i\n",
    "print(\"Sayilarin toplami: \", toplam)"
   ]
  },
  {
   "cell_type": "code",
   "execution_count": 10,
   "id": "22c09bc9",
   "metadata": {},
   "outputs": [
    {
     "name": "stdout",
     "output_type": "stream",
     "text": [
      "1\n",
      "4\n",
      "7\n"
     ]
    }
   ],
   "source": [
    "#i değeri 1'den 20'ye 3er 3er artsın. i=10 olursa döngü dursun\n",
    "for i in range (1,20,3):\n",
    "    if i == 10:\n",
    "        break\n",
    "    print(i)\n"
   ]
  },
  {
   "cell_type": "code",
   "execution_count": 16,
   "id": "7b3bf666",
   "metadata": {},
   "outputs": [
    {
     "name": "stdout",
     "output_type": "stream",
     "text": [
      "Lütfen bir sayı giriniz: 123\n",
      "sayi 123\n",
      "ters sayi 321\n"
     ]
    }
   ],
   "source": [
    "#girilen sayıyın tersini yazdırma\n",
    "sayi = int(input('Lütfen bir sayı giriniz: ')) \n",
    "ters_sayi = 0\n",
    "print(\"sayi\", sayi)\n",
    "\n",
    "while sayi > 0:\n",
    "    kalan = sayi %10                          #3            2    1\n",
    "    ters_sayi = (ters_sayi * 10) + kalan      #ters 3      32    321\n",
    "    sayi = sayi // 10                         #sayi 12      1\n",
    "    \n",
    "print(\"ters sayi\", ters_sayi)\n",
    "\n",
    "# % mod alma\n",
    "# // tam bölme"
   ]
  },
  {
   "cell_type": "code",
   "execution_count": 17,
   "id": "1c1ade66",
   "metadata": {},
   "outputs": [
    {
     "name": "stdout",
     "output_type": "stream",
     "text": [
      "maleS"
     ]
    }
   ],
   "source": [
    "#cumleyi tersten yazdırma\n",
    "cumle = \"Selam\"\n",
    "for i in range(len(cumle) -1, -1, -1):\n",
    "    print(cumle[i], end=\"\")    #end=\"\" her harf arasına hiçbir şey koyma, yani bitişik yaz anlamındadır."
   ]
  },
  {
   "cell_type": "code",
   "execution_count": 6,
   "id": "3b019ce0",
   "metadata": {},
   "outputs": [
    {
     "name": "stdout",
     "output_type": "stream",
     "text": [
      "m\n",
      "a\n",
      "l\n",
      "e\n",
      "S\n"
     ]
    }
   ],
   "source": [
    "#cumledeki harfleri tersten yazdırma\n",
    "cumle = \"Selam\"\n",
    "for i in range(len(cumle) -1, -1, -1):\n",
    "    print(cumle[i])"
   ]
  },
  {
   "cell_type": "code",
   "execution_count": 7,
   "id": "526609b9",
   "metadata": {},
   "outputs": [
    {
     "name": "stdout",
     "output_type": "stream",
     "text": [
      "[1, 2, 'ali', 0.25, 5.6, 'mehmet']\n",
      "[1, 2]\n",
      "[2, 'ali']\n",
      "[1, 2, 'ali', 0.25, 'umut', 'mehmet']\n",
      "[1, 2, 'ali', 0.25, 'umut', 'mehmet']\n"
     ]
    }
   ],
   "source": [
    "#liste printleme şekilleri\n",
    "liste=[1, 2, 'ali', 0.25, 5.6, 'mehmet']\n",
    "print(liste[0:])\n",
    "print(liste[0:2])\n",
    "print(liste[1:3])\n",
    "liste[4] = 'umut' #listedeki 4. indeksi değiştirme\n",
    "print(liste[:])\n",
    "print(liste)"
   ]
  },
  {
   "cell_type": "code",
   "execution_count": 42,
   "id": "502f8f34",
   "metadata": {},
   "outputs": [
    {
     "name": "stdout",
     "output_type": "stream",
     "text": [
      "[0, 1, 4, 9, 16, 25, 36, 49, 64, 81, 100, 121, 144, 169, 196, 225, 256, 289, 324, 361]\n",
      "------\n",
      "[0, 1, 4, 9, 16, 25, 36, 49, 64, 81, 100, 121, 144, 169, 196, 225, 256, 289, 324, 361]\n"
     ]
    }
   ],
   "source": [
    "#1den 20ye kadar sayıların üslerini listeye ekleme\n",
    "list = []\n",
    "for i in range(20):\n",
    "    list.append(i**2)\n",
    "print(list)\n",
    "print(\"------\")\n",
    "\n",
    "#2. yol\n",
    "list = [i**2 for i in range(20)]\n",
    "print(list)"
   ]
  },
  {
   "cell_type": "code",
   "execution_count": 47,
   "id": "3641e765",
   "metadata": {},
   "outputs": [
    {
     "name": "stdout",
     "output_type": "stream",
     "text": [
      "[1, 9, 25, 49, 81, 121, 169, 225, 289, 361]\n",
      "------\n",
      "[1, 9, 25, 49, 81, 121, 169, 225, 289, 361]\n"
     ]
    }
   ],
   "source": [
    "#1den 20ye kadar tek sayıların üslerini listeye ekleme\n",
    "list = []\n",
    "for i in range(20):\n",
    "    if i%2==1:\n",
    "        list.append(i**2)\n",
    "print(list)\n",
    "print(\"------\")\n",
    "\n",
    "#2. yol\n",
    "list = [i**2 for i in range(20) if i%2==1]\n",
    "print(list)"
   ]
  },
  {
   "cell_type": "code",
   "execution_count": 56,
   "id": "c2dc752b",
   "metadata": {},
   "outputs": [
    {
     "name": "stdout",
     "output_type": "stream",
     "text": [
      "['sari bisiklet', 'sari otobus', 'sari taksi', 'kirmizi bisiklet', 'kirmizi otobus', 'kirmizi taksi']\n",
      "['sari bisiklet', 'sari otobus', 'sari taksi', 'kirmizi bisiklet', 'kirmizi otobus', 'kirmizi taksi']\n"
     ]
    }
   ],
   "source": [
    "#2 listenin kartezyenini alma diyebiliriz\n",
    "renkler = [\"sari\", \"kirmizi\"]\n",
    "araclar = [\"bisiklet\", \"otobus\", \"taksi\"]\n",
    "liste = []\n",
    "\n",
    "for i in renkler:\n",
    "    for j in araclar:\n",
    "        liste.append(i + \" \"+ j)\n",
    "        \n",
    "print(liste)\n",
    "\n",
    "#2. yol\n",
    "liste = [i + \" \" + j for i in renkler for j in araclar]\n",
    "print(liste)"
   ]
  },
  {
   "cell_type": "code",
   "execution_count": null,
   "id": "352bc007",
   "metadata": {},
   "outputs": [],
   "source": []
  }
 ],
 "metadata": {
  "kernelspec": {
   "display_name": "Python 3 (ipykernel)",
   "language": "python",
   "name": "python3"
  },
  "language_info": {
   "codemirror_mode": {
    "name": "ipython",
    "version": 3
   },
   "file_extension": ".py",
   "mimetype": "text/x-python",
   "name": "python",
   "nbconvert_exporter": "python",
   "pygments_lexer": "ipython3",
   "version": "3.12.4"
  }
 },
 "nbformat": 4,
 "nbformat_minor": 5
}
