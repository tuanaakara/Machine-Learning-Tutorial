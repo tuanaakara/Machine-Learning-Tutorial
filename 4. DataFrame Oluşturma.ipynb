{
 "cells": [
  {
   "cell_type": "markdown",
   "id": "63048f7f",
   "metadata": {},
   "source": [
    "## Listelerden DataFrame Oluşturma"
   ]
  },
  {
   "cell_type": "markdown",
   "id": "4dbb6aff-c542-41b4-9804-b5bf1a20250b",
   "metadata": {},
   "source": [
    "Listelerle işlemler yapacağız. Sütun ekleme, silme, güncelleme vb.\n",
    "\n",
    "Veri Analizi ve matplotlib ile Veri Görselleştirmeye kısaca değineceğiz.\n",
    "\n",
    "DataFrame Birleştirme (Merge) ve DataFrame İstifleme (Concat) yapacağız."
   ]
  },
  {
   "cell_type": "code",
   "execution_count": 3,
   "id": "dbdf4da3",
   "metadata": {},
   "outputs": [
    {
     "data": {
      "text/html": [
       "<div>\n",
       "<style scoped>\n",
       "    .dataframe tbody tr th:only-of-type {\n",
       "        vertical-align: middle;\n",
       "    }\n",
       "\n",
       "    .dataframe tbody tr th {\n",
       "        vertical-align: top;\n",
       "    }\n",
       "\n",
       "    .dataframe thead th {\n",
       "        text-align: right;\n",
       "    }\n",
       "</style>\n",
       "<table border=\"1\" class=\"dataframe\">\n",
       "  <thead>\n",
       "    <tr style=\"text-align: right;\">\n",
       "      <th></th>\n",
       "      <th>Ad</th>\n",
       "      <th>Yas</th>\n",
       "      <th>Sehir</th>\n",
       "    </tr>\n",
       "  </thead>\n",
       "  <tbody>\n",
       "    <tr>\n",
       "      <th>0</th>\n",
       "      <td>Ali</td>\n",
       "      <td>25</td>\n",
       "      <td>Ankara</td>\n",
       "    </tr>\n",
       "    <tr>\n",
       "      <th>1</th>\n",
       "      <td>Veli</td>\n",
       "      <td>30</td>\n",
       "      <td>İstanbul</td>\n",
       "    </tr>\n",
       "    <tr>\n",
       "      <th>2</th>\n",
       "      <td>Ayse</td>\n",
       "      <td>22</td>\n",
       "      <td>İzmir</td>\n",
       "    </tr>\n",
       "    <tr>\n",
       "      <th>3</th>\n",
       "      <td>Fatma</td>\n",
       "      <td>35</td>\n",
       "      <td>Bursa</td>\n",
       "    </tr>\n",
       "  </tbody>\n",
       "</table>\n",
       "</div>"
      ],
      "text/plain": [
       "      Ad  Yas     Sehir\n",
       "0    Ali   25    Ankara\n",
       "1   Veli   30  İstanbul\n",
       "2   Ayse   22     İzmir\n",
       "3  Fatma   35     Bursa"
      ]
     },
     "execution_count": 3,
     "metadata": {},
     "output_type": "execute_result"
    }
   ],
   "source": [
    "import pandas as pd \n",
    "data = {\n",
    "    'Ad' : ['Ali', 'Veli', 'Ayse', 'Fatma'],\n",
    "    'Yas'  : [25, 30, 22,35],\n",
    "    'Sehir'  : ['Ankara', 'İstanbul', 'İzmir' , 'Bursa' ]}\n",
    "\n",
    "df=pd.DataFrame(data)\n",
    "df"
   ]
  },
  {
   "cell_type": "code",
   "execution_count": null,
   "id": "c33d572a",
   "metadata": {},
   "outputs": [],
   "source": [
    "df = pd.read_csv('veri_csv')    #veri_csv dosyasını okuma\n",
    "df.head()"
   ]
  },
  {
   "cell_type": "code",
   "execution_count": 12,
   "id": "bf10e90f",
   "metadata": {},
   "outputs": [
    {
     "name": "stdout",
     "output_type": "stream",
     "text": [
      "0      Ali\n",
      "1     Veli\n",
      "2     Ayse\n",
      "3    Fatma\n",
      "Name: Ad, dtype: object\n",
      "---------\n"
     ]
    },
    {
     "data": {
      "text/html": [
       "<div>\n",
       "<style scoped>\n",
       "    .dataframe tbody tr th:only-of-type {\n",
       "        vertical-align: middle;\n",
       "    }\n",
       "\n",
       "    .dataframe tbody tr th {\n",
       "        vertical-align: top;\n",
       "    }\n",
       "\n",
       "    .dataframe thead th {\n",
       "        text-align: right;\n",
       "    }\n",
       "</style>\n",
       "<table border=\"1\" class=\"dataframe\">\n",
       "  <thead>\n",
       "    <tr style=\"text-align: right;\">\n",
       "      <th></th>\n",
       "      <th>Ad</th>\n",
       "      <th>Sehir</th>\n",
       "    </tr>\n",
       "  </thead>\n",
       "  <tbody>\n",
       "    <tr>\n",
       "      <th>0</th>\n",
       "      <td>Ali</td>\n",
       "      <td>Ankara</td>\n",
       "    </tr>\n",
       "    <tr>\n",
       "      <th>1</th>\n",
       "      <td>Veli</td>\n",
       "      <td>İstanbul</td>\n",
       "    </tr>\n",
       "    <tr>\n",
       "      <th>2</th>\n",
       "      <td>Ayse</td>\n",
       "      <td>İzmir</td>\n",
       "    </tr>\n",
       "    <tr>\n",
       "      <th>3</th>\n",
       "      <td>Fatma</td>\n",
       "      <td>Bursa</td>\n",
       "    </tr>\n",
       "  </tbody>\n",
       "</table>\n",
       "</div>"
      ],
      "text/plain": [
       "      Ad     Sehir\n",
       "0    Ali    Ankara\n",
       "1   Veli  İstanbul\n",
       "2   Ayse     İzmir\n",
       "3  Fatma     Bursa"
      ]
     },
     "execution_count": 12,
     "metadata": {},
     "output_type": "execute_result"
    }
   ],
   "source": [
    "print(df['Ad'])\n",
    "print(\"---------\")\n",
    "df[['Ad', 'Sehir']]     # Bu dış parantezler DataFrame'i ifade eder\n",
    "\n",
    "#Eğer tek bir sütun seçilmek istenirse, df['Ad'] şeklinde bir köşeli parantez kullanılabilir.\n",
    "#Ancak birden fazla sütun seçilmek isteniyorsa, sütun adları bir liste içinde belirtilir ve iki köşeli parantez (df[['Ad', 'Sehir']]) kullanılır."
   ]
  },
  {
   "cell_type": "code",
   "execution_count": 3,
   "id": "f986b39c",
   "metadata": {},
   "outputs": [
    {
     "name": "stdout",
     "output_type": "stream",
     "text": [
      "Ad          Ali\n",
      "Yas          25\n",
      "Sehir    Ankara\n",
      "Name: 0, dtype: object\n",
      "-----------\n",
      "    Ad  Yas   Sehir\n",
      "0  Ali   25  Ankara\n",
      "-----------\n",
      "     Ad  Yas     Sehir\n",
      "0   Ali   25    Ankara\n",
      "1  Veli   30  İstanbul\n",
      "2  Ayse   22     İzmir\n"
     ]
    }
   ],
   "source": [
    "print(df.iloc[0])\n",
    "print(\"-----------\")\n",
    "print(df.iloc[0:1])\n",
    "print(\"-----------\")\n",
    "print(df.iloc[0:3])\n",
    "#ilocta son yazılan index dahil edilmez. burada 0, 1 ve 2. indexleri yazdırırız. Fakat loc kullanıldığında dahil edilir."
   ]
  },
  {
   "cell_type": "code",
   "execution_count": 4,
   "id": "6d0e134a",
   "metadata": {},
   "outputs": [
    {
     "name": "stdout",
     "output_type": "stream",
     "text": [
      "      Ad  Yas     Sehir\n",
      "1   Veli   30  İstanbul\n",
      "3  Fatma   35     Bursa\n",
      "--------------\n",
      "    Ad  Yas   Sehir\n",
      "0  Ali   25  Ankara\n"
     ]
    }
   ],
   "source": [
    "yas_filtre = df[df['Yas']>25]\n",
    "print(yas_filtre)\n",
    "print(\"--------------\")\n",
    "sehir_filtre = df[df['Sehir'] =='Ankara']\n",
    "print(sehir_filtre)"
   ]
  },
  {
   "cell_type": "markdown",
   "id": "929732b3",
   "metadata": {},
   "source": [
    "### Veri Güncelleme"
   ]
  },
  {
   "cell_type": "code",
   "execution_count": 5,
   "id": "a7b78d2b",
   "metadata": {},
   "outputs": [
    {
     "data": {
      "text/html": [
       "<div>\n",
       "<style scoped>\n",
       "    .dataframe tbody tr th:only-of-type {\n",
       "        vertical-align: middle;\n",
       "    }\n",
       "\n",
       "    .dataframe tbody tr th {\n",
       "        vertical-align: top;\n",
       "    }\n",
       "\n",
       "    .dataframe thead th {\n",
       "        text-align: right;\n",
       "    }\n",
       "</style>\n",
       "<table border=\"1\" class=\"dataframe\">\n",
       "  <thead>\n",
       "    <tr style=\"text-align: right;\">\n",
       "      <th></th>\n",
       "      <th>Ad</th>\n",
       "      <th>Yas</th>\n",
       "      <th>Sehir</th>\n",
       "    </tr>\n",
       "  </thead>\n",
       "  <tbody>\n",
       "    <tr>\n",
       "      <th>0</th>\n",
       "      <td>Ali</td>\n",
       "      <td>88</td>\n",
       "      <td>Ankara</td>\n",
       "    </tr>\n",
       "    <tr>\n",
       "      <th>1</th>\n",
       "      <td>Veli</td>\n",
       "      <td>30</td>\n",
       "      <td>İstanbul</td>\n",
       "    </tr>\n",
       "    <tr>\n",
       "      <th>2</th>\n",
       "      <td>Ayse</td>\n",
       "      <td>22</td>\n",
       "      <td>İzmir</td>\n",
       "    </tr>\n",
       "    <tr>\n",
       "      <th>3</th>\n",
       "      <td>Fatma</td>\n",
       "      <td>35</td>\n",
       "      <td>Bursa</td>\n",
       "    </tr>\n",
       "  </tbody>\n",
       "</table>\n",
       "</div>"
      ],
      "text/plain": [
       "      Ad  Yas     Sehir\n",
       "0    Ali   88    Ankara\n",
       "1   Veli   30  İstanbul\n",
       "2   Ayse   22     İzmir\n",
       "3  Fatma   35     Bursa"
      ]
     },
     "execution_count": 5,
     "metadata": {},
     "output_type": "execute_result"
    }
   ],
   "source": [
    "#df.loc[0, 'Yas'] = 88   \n",
    "df\n",
    "\n",
    "#df.loc  -->> etikete göre veri seçme (satır sütun adı)\n",
    "#df.iloc -->> konumsal (integer tabanlı) indexleme"
   ]
  },
  {
   "cell_type": "markdown",
   "id": "e87a1949",
   "metadata": {},
   "source": [
    "### Yeni Sütun Eklemek"
   ]
  },
  {
   "cell_type": "code",
   "execution_count": 13,
   "id": "0ada976c",
   "metadata": {},
   "outputs": [
    {
     "data": {
      "text/html": [
       "<div>\n",
       "<style scoped>\n",
       "    .dataframe tbody tr th:only-of-type {\n",
       "        vertical-align: middle;\n",
       "    }\n",
       "\n",
       "    .dataframe tbody tr th {\n",
       "        vertical-align: top;\n",
       "    }\n",
       "\n",
       "    .dataframe thead th {\n",
       "        text-align: right;\n",
       "    }\n",
       "</style>\n",
       "<table border=\"1\" class=\"dataframe\">\n",
       "  <thead>\n",
       "    <tr style=\"text-align: right;\">\n",
       "      <th></th>\n",
       "      <th>Ad</th>\n",
       "      <th>Yas</th>\n",
       "      <th>Sehir</th>\n",
       "      <th>Meslek</th>\n",
       "    </tr>\n",
       "  </thead>\n",
       "  <tbody>\n",
       "    <tr>\n",
       "      <th>0</th>\n",
       "      <td>Ali</td>\n",
       "      <td>25</td>\n",
       "      <td>Ankara</td>\n",
       "      <td>Mühendis</td>\n",
       "    </tr>\n",
       "    <tr>\n",
       "      <th>1</th>\n",
       "      <td>Veli</td>\n",
       "      <td>30</td>\n",
       "      <td>İstanbul</td>\n",
       "      <td>Doktor</td>\n",
       "    </tr>\n",
       "    <tr>\n",
       "      <th>2</th>\n",
       "      <td>Ayse</td>\n",
       "      <td>22</td>\n",
       "      <td>İzmir</td>\n",
       "      <td>Öğretmen</td>\n",
       "    </tr>\n",
       "    <tr>\n",
       "      <th>3</th>\n",
       "      <td>Fatma</td>\n",
       "      <td>35</td>\n",
       "      <td>Bursa</td>\n",
       "      <td>Avukat</td>\n",
       "    </tr>\n",
       "  </tbody>\n",
       "</table>\n",
       "</div>"
      ],
      "text/plain": [
       "      Ad  Yas     Sehir    Meslek\n",
       "0    Ali   25    Ankara  Mühendis\n",
       "1   Veli   30  İstanbul    Doktor\n",
       "2   Ayse   22     İzmir  Öğretmen\n",
       "3  Fatma   35     Bursa    Avukat"
      ]
     },
     "execution_count": 13,
     "metadata": {},
     "output_type": "execute_result"
    }
   ],
   "source": [
    "df['Meslek'] = ['Mühendis', 'Doktor', 'Öğretmen', 'Avukat']\n",
    "df"
   ]
  },
  {
   "cell_type": "code",
   "execution_count": 14,
   "id": "06341252",
   "metadata": {},
   "outputs": [
    {
     "data": {
      "text/html": [
       "<div>\n",
       "<style scoped>\n",
       "    .dataframe tbody tr th:only-of-type {\n",
       "        vertical-align: middle;\n",
       "    }\n",
       "\n",
       "    .dataframe tbody tr th {\n",
       "        vertical-align: top;\n",
       "    }\n",
       "\n",
       "    .dataframe thead th {\n",
       "        text-align: right;\n",
       "    }\n",
       "</style>\n",
       "<table border=\"1\" class=\"dataframe\">\n",
       "  <thead>\n",
       "    <tr style=\"text-align: right;\">\n",
       "      <th></th>\n",
       "      <th>Ad</th>\n",
       "      <th>Yas</th>\n",
       "      <th>Sehir</th>\n",
       "      <th>Meslek</th>\n",
       "      <th>Gelir</th>\n",
       "    </tr>\n",
       "  </thead>\n",
       "  <tbody>\n",
       "    <tr>\n",
       "      <th>0</th>\n",
       "      <td>Ali</td>\n",
       "      <td>25</td>\n",
       "      <td>Ankara</td>\n",
       "      <td>Mühendis</td>\n",
       "      <td>100K</td>\n",
       "    </tr>\n",
       "    <tr>\n",
       "      <th>1</th>\n",
       "      <td>Veli</td>\n",
       "      <td>30</td>\n",
       "      <td>İstanbul</td>\n",
       "      <td>Doktor</td>\n",
       "      <td>80K</td>\n",
       "    </tr>\n",
       "    <tr>\n",
       "      <th>2</th>\n",
       "      <td>Ayse</td>\n",
       "      <td>22</td>\n",
       "      <td>İzmir</td>\n",
       "      <td>Öğretmen</td>\n",
       "      <td>55K</td>\n",
       "    </tr>\n",
       "    <tr>\n",
       "      <th>3</th>\n",
       "      <td>Fatma</td>\n",
       "      <td>35</td>\n",
       "      <td>Bursa</td>\n",
       "      <td>Avukat</td>\n",
       "      <td>70K</td>\n",
       "    </tr>\n",
       "  </tbody>\n",
       "</table>\n",
       "</div>"
      ],
      "text/plain": [
       "      Ad  Yas     Sehir    Meslek Gelir\n",
       "0    Ali   25    Ankara  Mühendis  100K\n",
       "1   Veli   30  İstanbul    Doktor   80K\n",
       "2   Ayse   22     İzmir  Öğretmen   55K\n",
       "3  Fatma   35     Bursa    Avukat   70K"
      ]
     },
     "execution_count": 14,
     "metadata": {},
     "output_type": "execute_result"
    }
   ],
   "source": [
    "df['Gelir'] = ['100K', '80K', '55K', '70K']\n",
    "df"
   ]
  },
  {
   "cell_type": "markdown",
   "id": "d46c185b",
   "metadata": {},
   "source": [
    "### Sütun Silme"
   ]
  },
  {
   "cell_type": "code",
   "execution_count": 15,
   "id": "26b8a3b6",
   "metadata": {},
   "outputs": [
    {
     "data": {
      "text/html": [
       "<div>\n",
       "<style scoped>\n",
       "    .dataframe tbody tr th:only-of-type {\n",
       "        vertical-align: middle;\n",
       "    }\n",
       "\n",
       "    .dataframe tbody tr th {\n",
       "        vertical-align: top;\n",
       "    }\n",
       "\n",
       "    .dataframe thead th {\n",
       "        text-align: right;\n",
       "    }\n",
       "</style>\n",
       "<table border=\"1\" class=\"dataframe\">\n",
       "  <thead>\n",
       "    <tr style=\"text-align: right;\">\n",
       "      <th></th>\n",
       "      <th>Ad</th>\n",
       "      <th>Yas</th>\n",
       "      <th>Sehir</th>\n",
       "      <th>Meslek</th>\n",
       "    </tr>\n",
       "  </thead>\n",
       "  <tbody>\n",
       "    <tr>\n",
       "      <th>0</th>\n",
       "      <td>Ali</td>\n",
       "      <td>25</td>\n",
       "      <td>Ankara</td>\n",
       "      <td>Mühendis</td>\n",
       "    </tr>\n",
       "    <tr>\n",
       "      <th>1</th>\n",
       "      <td>Veli</td>\n",
       "      <td>30</td>\n",
       "      <td>İstanbul</td>\n",
       "      <td>Doktor</td>\n",
       "    </tr>\n",
       "    <tr>\n",
       "      <th>2</th>\n",
       "      <td>Ayse</td>\n",
       "      <td>22</td>\n",
       "      <td>İzmir</td>\n",
       "      <td>Öğretmen</td>\n",
       "    </tr>\n",
       "    <tr>\n",
       "      <th>3</th>\n",
       "      <td>Fatma</td>\n",
       "      <td>35</td>\n",
       "      <td>Bursa</td>\n",
       "      <td>Avukat</td>\n",
       "    </tr>\n",
       "  </tbody>\n",
       "</table>\n",
       "</div>"
      ],
      "text/plain": [
       "      Ad  Yas     Sehir    Meslek\n",
       "0    Ali   25    Ankara  Mühendis\n",
       "1   Veli   30  İstanbul    Doktor\n",
       "2   Ayse   22     İzmir  Öğretmen\n",
       "3  Fatma   35     Bursa    Avukat"
      ]
     },
     "execution_count": 15,
     "metadata": {},
     "output_type": "execute_result"
    }
   ],
   "source": [
    "df = df.drop(columns=['Gelir'])\n",
    "df"
   ]
  },
  {
   "cell_type": "markdown",
   "id": "af703d7c",
   "metadata": {},
   "source": [
    "### Satır Silme"
   ]
  },
  {
   "cell_type": "code",
   "execution_count": null,
   "id": "68e98e64",
   "metadata": {},
   "outputs": [],
   "source": [
    "#df = df.drop(index=[0])\n",
    "#df"
   ]
  },
  {
   "cell_type": "markdown",
   "id": "03c47908",
   "metadata": {},
   "source": [
    "# 2. Veri Analizi"
   ]
  },
  {
   "cell_type": "code",
   "execution_count": 16,
   "id": "e0f2137e",
   "metadata": {},
   "outputs": [
    {
     "data": {
      "text/html": [
       "<div>\n",
       "<style scoped>\n",
       "    .dataframe tbody tr th:only-of-type {\n",
       "        vertical-align: middle;\n",
       "    }\n",
       "\n",
       "    .dataframe tbody tr th {\n",
       "        vertical-align: top;\n",
       "    }\n",
       "\n",
       "    .dataframe thead th {\n",
       "        text-align: right;\n",
       "    }\n",
       "</style>\n",
       "<table border=\"1\" class=\"dataframe\">\n",
       "  <thead>\n",
       "    <tr style=\"text-align: right;\">\n",
       "      <th></th>\n",
       "      <th>Yas</th>\n",
       "    </tr>\n",
       "  </thead>\n",
       "  <tbody>\n",
       "    <tr>\n",
       "      <th>count</th>\n",
       "      <td>4.000000</td>\n",
       "    </tr>\n",
       "    <tr>\n",
       "      <th>mean</th>\n",
       "      <td>28.000000</td>\n",
       "    </tr>\n",
       "    <tr>\n",
       "      <th>std</th>\n",
       "      <td>5.715476</td>\n",
       "    </tr>\n",
       "    <tr>\n",
       "      <th>min</th>\n",
       "      <td>22.000000</td>\n",
       "    </tr>\n",
       "    <tr>\n",
       "      <th>25%</th>\n",
       "      <td>24.250000</td>\n",
       "    </tr>\n",
       "    <tr>\n",
       "      <th>50%</th>\n",
       "      <td>27.500000</td>\n",
       "    </tr>\n",
       "    <tr>\n",
       "      <th>75%</th>\n",
       "      <td>31.250000</td>\n",
       "    </tr>\n",
       "    <tr>\n",
       "      <th>max</th>\n",
       "      <td>35.000000</td>\n",
       "    </tr>\n",
       "  </tbody>\n",
       "</table>\n",
       "</div>"
      ],
      "text/plain": [
       "             Yas\n",
       "count   4.000000\n",
       "mean   28.000000\n",
       "std     5.715476\n",
       "min    22.000000\n",
       "25%    24.250000\n",
       "50%    27.500000\n",
       "75%    31.250000\n",
       "max    35.000000"
      ]
     },
     "execution_count": 16,
     "metadata": {},
     "output_type": "execute_result"
    }
   ],
   "source": [
    "df.describe()  #Temel istatistiksel özet"
   ]
  },
  {
   "cell_type": "code",
   "execution_count": 17,
   "id": "3989ce82",
   "metadata": {},
   "outputs": [
    {
     "data": {
      "text/plain": [
       "28.0"
      ]
     },
     "execution_count": 17,
     "metadata": {},
     "output_type": "execute_result"
    }
   ],
   "source": [
    "#df.mean()         #ortalama değerler. \n",
    "df['Yas'].mean()   #'Yas' sütununun ortalaması"
   ]
  },
  {
   "cell_type": "markdown",
   "id": "6a4148af",
   "metadata": {},
   "source": [
    "### Gruplama ve Toplulaştırma"
   ]
  },
  {
   "cell_type": "code",
   "execution_count": 19,
   "id": "8bc69593",
   "metadata": {},
   "outputs": [
    {
     "name": "stdout",
     "output_type": "stream",
     "text": [
      "      Ad  Yas     Sehir    Meslek\n",
      "0    Ali   25    Ankara  Mühendis\n",
      "1   Veli   30  İstanbul    Doktor\n",
      "2   Ayse   22     İzmir  Öğretmen\n",
      "3  Fatma   35     Bursa    Avukat\n",
      "5  Fatma   23     İzmir     Pilot\n",
      "      Ad  Yas     Sehir    Meslek\n",
      "0    Ali   25    Ankara  Mühendis\n",
      "1   Veli   30  İstanbul    Doktor\n",
      "2   Ayse   22     İzmir  Öğretmen\n",
      "3  Fatma   35     Bursa    Avukat\n",
      "5  Fatma   23     İzmir     Pilot\n",
      "6  Fatma   23     İzmir     Pilot\n",
      "Her şehirdeki kişi sayısı\n",
      "Sehir\n",
      "Ankara      1\n",
      "Bursa       1\n",
      "İstanbul    1\n",
      "İzmir       3\n",
      "dtype: int64\n"
     ]
    }
   ],
   "source": [
    "print(df)\n",
    "df.loc[len(df.index)+1] = ['Fatma', 23, 'İzmir', 'Pilot']\n",
    "print(df)\n",
    "\n",
    "group=df.groupby('Sehir')\n",
    "sehir_grup=df.groupby('Sehir').size()\n",
    "print(\"Her şehirdeki kişi sayısı\")\n",
    "print(sehir_grup)\n",
    "#kodu her çalıştırdığımızda Fatmayı tekrar bir sonraki indexe ekliyor"
   ]
  },
  {
   "cell_type": "code",
   "execution_count": 7,
   "id": "f349d098-3159-4d75-9f66-b0e7a702817c",
   "metadata": {},
   "outputs": [
    {
     "data": {
      "text/plain": [
       "4"
      ]
     },
     "execution_count": 7,
     "metadata": {},
     "output_type": "execute_result"
    }
   ],
   "source": [
    "len(df.index)"
   ]
  },
  {
   "cell_type": "markdown",
   "id": "354a1ea7",
   "metadata": {},
   "source": [
    "### Veri Görselleştirme"
   ]
  },
  {
   "cell_type": "code",
   "execution_count": 10,
   "id": "a341f38f",
   "metadata": {},
   "outputs": [
    {
     "data": {
      "image/png": "[encoded data removed]",
      "text/plain": [
       "<Figure size 640x480 with 1 Axes>"
      ]
     },
     "metadata": {},
     "output_type": "display_data"
    },
    {
     "data": {
      "image/png": "[encoded data removed]",
      "text/plain": [
       "<Figure size 640x480 with 1 Axes>"
      ]
     },
     "metadata": {},
     "output_type": "display_data"
    }
   ],
   "source": [
    "import matplotlib.pyplot as plt\n",
    "\n",
    "df['Yas'].plot(kind='hist', bins=10, title='Yaş Dağılımı')    #bins parametresi, veriyi kaç adet aralığa (bin) bölmek istediğinizi belirler.\n",
    "plt.xlabel('Yaş')\n",
    "plt.ylabel('Frekans')\n",
    "plt.show()\n",
    "\n",
    "df.groupby('Sehir')['Yas'].mean().plot(kind='bar', title='Şehirlere Göre Yaş Dağılımı')\n",
    "plt.xlabel('Şehir')\n",
    "plt.ylabel('Ortalama Yaş')\n",
    "plt.show()"
   ]
  },
  {
   "cell_type": "markdown",
   "id": "9706181c",
   "metadata": {},
   "source": [
    "### DataFrame Birleştirme (Merge)"
   ]
  },
  {
   "cell_type": "code",
   "execution_count": 12,
   "id": "61d508db",
   "metadata": {},
   "outputs": [
    {
     "name": "stdout",
     "output_type": "stream",
     "text": [
      "  Anahtar  Değer1  Değer2\n",
      "0      K1       1       4\n",
      "1      K2       2       5\n",
      "  Anahtar  Değer1  Değer2\n",
      "0      K1     1.0     4.0\n",
      "1      K2     2.0     5.0\n",
      "2      K3     3.0     NaN\n",
      "3      K4     NaN     6.0\n"
     ]
    }
   ],
   "source": [
    "data1 = {'Anahtar': ['K1', 'K2', 'K3'],\n",
    "         'Değer1' : [1,2,3]}\n",
    "\n",
    "data2 = {'Anahtar': ['K1', 'K2', 'K4'],\n",
    "         'Değer2' : [4,5,6]}\n",
    "\n",
    "df1=pd.DataFrame(data1)\n",
    "df2=pd.DataFrame(data2)\n",
    "\n",
    "birlesik_df = pd.merge(df1, df2, on='Anahtar', how='inner')    #bu kodu kullanmak daha mantıklıdır.\n",
    "print(birlesik_df)\n",
    "\n",
    "birlesik_df = pd.merge(df1, df2, on='Anahtar', how='outer')\n",
    "print(birlesik_df)"
   ]
  },
  {
   "cell_type": "markdown",
   "id": "ef7e3209",
   "metadata": {},
   "source": [
    "### DataFrame İstifleme (Concat)"
   ]
  },
  {
   "cell_type": "code",
   "execution_count": 14,
   "id": "303aff00",
   "metadata": {},
   "outputs": [
    {
     "name": "stdout",
     "output_type": "stream",
     "text": [
      "  Anahtar  Değer1  Değer2\n",
      "0      K1     1.0     NaN\n",
      "1      K2     2.0     NaN\n",
      "2      K3     3.0     NaN\n",
      "0      K1     NaN     4.0\n",
      "1      K2     NaN     5.0\n",
      "2      K4     NaN     6.0\n",
      "  Anahtar  Değer1 Anahtar  Değer2\n",
      "0      K1       1      K1       4\n",
      "1      K2       2      K2       5\n",
      "2      K3       3      K4       6\n"
     ]
    }
   ],
   "source": [
    "df3= pd.concat([df1, df2], axis=0)\n",
    "print(df3) #alt alta ekler\n",
    "\n",
    "df3= pd.concat([df1, df2], axis=1)\n",
    "print(df3) #yan yana ekler)"
   ]
  },
  {
   "cell_type": "code",
   "execution_count": null,
   "id": "7f8566ca",
   "metadata": {},
   "outputs": [],
   "source": [
    "#merge inner, outer (left, right dahil) birleştirebiliyor. //can only use columns\n",
    "#concat verilen axise göre tamamını birleştiriyor. alt alta ekleyince (axis=0) boş değer varsa NaN da ekliyor// can be used with either axis,index"
   ]
  },
  {
   "cell_type": "markdown",
   "id": "b9d38cdc",
   "metadata": {},
   "source": [
    "### Csv veya Excel Dosyasına Kaydetme"
   ]
  },
  {
   "cell_type": "code",
   "execution_count": 18,
   "id": "8ba61a28",
   "metadata": {},
   "outputs": [],
   "source": [
    "#df3.to_excel('/Users/tuanakara/Documents/cikti.xlsx', index=False)    #macbook için"
   ]
  },
  {
   "cell_type": "code",
   "execution_count": 63,
   "id": "f66f244c",
   "metadata": {},
   "outputs": [],
   "source": [
    "data = {'isim'     : ['Ali', 'Ahmet', 'Mehmet', 'Veli', 'Arda', 'Doruk'],\n",
    "      'arasinav' : [5,54,12,22,15,87],\n",
    "      'odev'     : [68,44,87,74,68,70],\n",
    "      'final'    : [55,64,77,88,100,90]}"
   ]
  },
  {
   "cell_type": "code",
   "execution_count": 64,
   "id": "dc69afcf",
   "metadata": {},
   "outputs": [
    {
     "data": {
      "text/html": [
       "<div>\n",
       "<style scoped>\n",
       "    .dataframe tbody tr th:only-of-type {\n",
       "        vertical-align: middle;\n",
       "    }\n",
       "\n",
       "    .dataframe tbody tr th {\n",
       "        vertical-align: top;\n",
       "    }\n",
       "\n",
       "    .dataframe thead th {\n",
       "        text-align: right;\n",
       "    }\n",
       "</style>\n",
       "<table border=\"1\" class=\"dataframe\">\n",
       "  <thead>\n",
       "    <tr style=\"text-align: right;\">\n",
       "      <th></th>\n",
       "      <th>isim</th>\n",
       "      <th>arasinav</th>\n",
       "      <th>odev</th>\n",
       "      <th>final</th>\n",
       "    </tr>\n",
       "  </thead>\n",
       "  <tbody>\n",
       "    <tr>\n",
       "      <th>0</th>\n",
       "      <td>Ali</td>\n",
       "      <td>5.0</td>\n",
       "      <td>68.0</td>\n",
       "      <td>55</td>\n",
       "    </tr>\n",
       "    <tr>\n",
       "      <th>1</th>\n",
       "      <td>Ahmet</td>\n",
       "      <td>54.0</td>\n",
       "      <td>44.0</td>\n",
       "      <td>64</td>\n",
       "    </tr>\n",
       "    <tr>\n",
       "      <th>2</th>\n",
       "      <td>Mehmet</td>\n",
       "      <td>12.0</td>\n",
       "      <td>87.0</td>\n",
       "      <td>77</td>\n",
       "    </tr>\n",
       "    <tr>\n",
       "      <th>3</th>\n",
       "      <td>Veli</td>\n",
       "      <td>22.0</td>\n",
       "      <td>74.0</td>\n",
       "      <td>88</td>\n",
       "    </tr>\n",
       "    <tr>\n",
       "      <th>4</th>\n",
       "      <td>Arda</td>\n",
       "      <td>15.0</td>\n",
       "      <td>68.0</td>\n",
       "      <td>100</td>\n",
       "    </tr>\n",
       "    <tr>\n",
       "      <th>5</th>\n",
       "      <td>Doruk</td>\n",
       "      <td>87.0</td>\n",
       "      <td>70.0</td>\n",
       "      <td>90</td>\n",
       "    </tr>\n",
       "  </tbody>\n",
       "</table>\n",
       "</div>"
      ],
      "text/plain": [
       "     isim  arasinav  odev  final\n",
       "0     Ali       5.0  68.0     55\n",
       "1   Ahmet      54.0  44.0     64\n",
       "2  Mehmet      12.0  87.0     77\n",
       "3    Veli      22.0  74.0     88\n",
       "4    Arda      15.0  68.0    100\n",
       "5   Doruk      87.0  70.0     90"
      ]
     },
     "execution_count": 64,
     "metadata": {},
     "output_type": "execute_result"
    }
   ],
   "source": [
    "df=pd.DataFrame.from_dict(data)\n",
    "df['arasinav']=df['arasinav'].astype(float)\n",
    "df['odev']=df['odev'].astype(float)\n",
    "\n",
    "df"
   ]
  },
  {
   "cell_type": "code",
   "execution_count": 56,
   "id": "38d8533b",
   "metadata": {},
   "outputs": [
    {
     "data": {
      "text/html": [
       "<div>\n",
       "<style scoped>\n",
       "    .dataframe tbody tr th:only-of-type {\n",
       "        vertical-align: middle;\n",
       "    }\n",
       "\n",
       "    .dataframe tbody tr th {\n",
       "        vertical-align: top;\n",
       "    }\n",
       "\n",
       "    .dataframe thead th {\n",
       "        text-align: right;\n",
       "    }\n",
       "</style>\n",
       "<table border=\"1\" class=\"dataframe\">\n",
       "  <thead>\n",
       "    <tr style=\"text-align: right;\">\n",
       "      <th></th>\n",
       "      <th>isim</th>\n",
       "      <th>arasinav</th>\n",
       "      <th>odev</th>\n",
       "      <th>final</th>\n",
       "      <th>ortalama</th>\n",
       "    </tr>\n",
       "  </thead>\n",
       "  <tbody>\n",
       "    <tr>\n",
       "      <th>0</th>\n",
       "      <td>Ali</td>\n",
       "      <td>5.0</td>\n",
       "      <td>68.0</td>\n",
       "      <td>55.0</td>\n",
       "      <td>45.75</td>\n",
       "    </tr>\n",
       "    <tr>\n",
       "      <th>1</th>\n",
       "      <td>Ahmet</td>\n",
       "      <td>54.0</td>\n",
       "      <td>44.0</td>\n",
       "      <td>64.0</td>\n",
       "      <td>56.50</td>\n",
       "    </tr>\n",
       "    <tr>\n",
       "      <th>2</th>\n",
       "      <td>Mehmet</td>\n",
       "      <td>12.0</td>\n",
       "      <td>87.0</td>\n",
       "      <td>77.0</td>\n",
       "      <td>63.25</td>\n",
       "    </tr>\n",
       "    <tr>\n",
       "      <th>3</th>\n",
       "      <td>Veli</td>\n",
       "      <td>22.0</td>\n",
       "      <td>74.0</td>\n",
       "      <td>88.0</td>\n",
       "      <td>68.00</td>\n",
       "    </tr>\n",
       "    <tr>\n",
       "      <th>4</th>\n",
       "      <td>Arda</td>\n",
       "      <td>15.0</td>\n",
       "      <td>68.0</td>\n",
       "      <td>100.0</td>\n",
       "      <td>70.75</td>\n",
       "    </tr>\n",
       "    <tr>\n",
       "      <th>5</th>\n",
       "      <td>Doruk</td>\n",
       "      <td>87.0</td>\n",
       "      <td>70.0</td>\n",
       "      <td>90.0</td>\n",
       "      <td>84.25</td>\n",
       "    </tr>\n",
       "  </tbody>\n",
       "</table>\n",
       "</div>"
      ],
      "text/plain": [
       "     isim  arasinav  odev  final  ortalama\n",
       "0     Ali       5.0  68.0   55.0     45.75\n",
       "1   Ahmet      54.0  44.0   64.0     56.50\n",
       "2  Mehmet      12.0  87.0   77.0     63.25\n",
       "3    Veli      22.0  74.0   88.0     68.00\n",
       "4    Arda      15.0  68.0  100.0     70.75\n",
       "5   Doruk      87.0  70.0   90.0     84.25"
      ]
     },
     "execution_count": 56,
     "metadata": {},
     "output_type": "execute_result"
    }
   ],
   "source": [
    "df['ortalama'] = df['arasinav']*0.25 + df['odev']*0.25 + df['final']*0.5\n",
    "df"
   ]
  },
  {
   "cell_type": "code",
   "execution_count": 20,
   "id": "d870b8f3",
   "metadata": {},
   "outputs": [],
   "source": [
    "#Excel dosyalarını okuyarak DataFrame oluşturma\n",
    "musteriler = pd.read_excel(\"musteriler.xlsx\")\n",
    "satislar = pd.read_excel(\"satislar.xlsx\")\n",
    "#musteriler.xlsx ve satislar.xls dosyaları upload edildikten sonra burada kullanılabilir."
   ]
  },
  {
   "cell_type": "code",
   "execution_count": 22,
   "id": "adc0b26d",
   "metadata": {},
   "outputs": [
    {
     "data": {
      "text/html": [
       "<div>\n",
       "<style scoped>\n",
       "    .dataframe tbody tr th:only-of-type {\n",
       "        vertical-align: middle;\n",
       "    }\n",
       "\n",
       "    .dataframe tbody tr th {\n",
       "        vertical-align: top;\n",
       "    }\n",
       "\n",
       "    .dataframe thead th {\n",
       "        text-align: right;\n",
       "    }\n",
       "</style>\n",
       "<table border=\"1\" class=\"dataframe\">\n",
       "  <thead>\n",
       "    <tr style=\"text-align: right;\">\n",
       "      <th></th>\n",
       "      <th>MüşteriID</th>\n",
       "      <th>Ad</th>\n",
       "      <th>Soyad</th>\n",
       "      <th>Şehir</th>\n",
       "      <th>SatışID</th>\n",
       "      <th>ÜrünAdı</th>\n",
       "      <th>Miktar</th>\n",
       "      <th>BirimFiyat</th>\n",
       "    </tr>\n",
       "  </thead>\n",
       "  <tbody>\n",
       "    <tr>\n",
       "      <th>0</th>\n",
       "      <td>1</td>\n",
       "      <td>Ali</td>\n",
       "      <td>Yılmaz</td>\n",
       "      <td>İstanbul</td>\n",
       "      <td>101</td>\n",
       "      <td>Laptop</td>\n",
       "      <td>1</td>\n",
       "      <td>5000</td>\n",
       "    </tr>\n",
       "    <tr>\n",
       "      <th>1</th>\n",
       "      <td>1</td>\n",
       "      <td>Ali</td>\n",
       "      <td>Yılmaz</td>\n",
       "      <td>İstanbul</td>\n",
       "      <td>103</td>\n",
       "      <td>Tablet</td>\n",
       "      <td>1</td>\n",
       "      <td>1500</td>\n",
       "    </tr>\n",
       "    <tr>\n",
       "      <th>2</th>\n",
       "      <td>2</td>\n",
       "      <td>Veli</td>\n",
       "      <td>Can</td>\n",
       "      <td>Ankara</td>\n",
       "      <td>102</td>\n",
       "      <td>Telefon</td>\n",
       "      <td>2</td>\n",
       "      <td>3000</td>\n",
       "    </tr>\n",
       "    <tr>\n",
       "      <th>3</th>\n",
       "      <td>2</td>\n",
       "      <td>Veli</td>\n",
       "      <td>Can</td>\n",
       "      <td>Ankara</td>\n",
       "      <td>105</td>\n",
       "      <td>Telefon</td>\n",
       "      <td>1</td>\n",
       "      <td>3000</td>\n",
       "    </tr>\n",
       "    <tr>\n",
       "      <th>4</th>\n",
       "      <td>3</td>\n",
       "      <td>Ayşe</td>\n",
       "      <td>Demir</td>\n",
       "      <td>İzmir</td>\n",
       "      <td>104</td>\n",
       "      <td>Laptop</td>\n",
       "      <td>1</td>\n",
       "      <td>4500</td>\n",
       "    </tr>\n",
       "    <tr>\n",
       "      <th>5</th>\n",
       "      <td>4</td>\n",
       "      <td>Fatma</td>\n",
       "      <td>Kaya</td>\n",
       "      <td>Bursa</td>\n",
       "      <td>106</td>\n",
       "      <td>Kulaklık</td>\n",
       "      <td>5</td>\n",
       "      <td>200</td>\n",
       "    </tr>\n",
       "  </tbody>\n",
       "</table>\n",
       "</div>"
      ],
      "text/plain": [
       "   MüşteriID     Ad   Soyad     Şehir  SatışID   ÜrünAdı  Miktar  BirimFiyat\n",
       "0          1    Ali  Yılmaz  İstanbul      101    Laptop       1        5000\n",
       "1          1    Ali  Yılmaz  İstanbul      103    Tablet       1        1500\n",
       "2          2   Veli     Can    Ankara      102   Telefon       2        3000\n",
       "3          2   Veli     Can    Ankara      105   Telefon       1        3000\n",
       "4          3   Ayşe   Demir     İzmir      104    Laptop       1        4500\n",
       "5          4  Fatma    Kaya     Bursa      106  Kulaklık       5         200"
      ]
     },
     "execution_count": 22,
     "metadata": {},
     "output_type": "execute_result"
    }
   ],
   "source": [
    "#DataFrameleri birleştirme\n",
    "birlesik_df = pd.merge(musteriler, satislar, on='MüşteriID', how='inner')\n",
    "birlesik_df"
   ]
  },
  {
   "cell_type": "code",
   "execution_count": 24,
   "id": "6ce104db",
   "metadata": {},
   "outputs": [
    {
     "data": {
      "text/html": [
       "<div>\n",
       "<style scoped>\n",
       "    .dataframe tbody tr th:only-of-type {\n",
       "        vertical-align: middle;\n",
       "    }\n",
       "\n",
       "    .dataframe tbody tr th {\n",
       "        vertical-align: top;\n",
       "    }\n",
       "\n",
       "    .dataframe thead th {\n",
       "        text-align: right;\n",
       "    }\n",
       "</style>\n",
       "<table border=\"1\" class=\"dataframe\">\n",
       "  <thead>\n",
       "    <tr style=\"text-align: right;\">\n",
       "      <th></th>\n",
       "      <th>MüşteriID</th>\n",
       "      <th>Ad</th>\n",
       "      <th>Soyad</th>\n",
       "      <th>Şehir</th>\n",
       "      <th>SatışID</th>\n",
       "      <th>ÜrünAdı</th>\n",
       "      <th>Miktar</th>\n",
       "      <th>BirimFiyat</th>\n",
       "      <th>ToplamHarcama</th>\n",
       "    </tr>\n",
       "  </thead>\n",
       "  <tbody>\n",
       "    <tr>\n",
       "      <th>0</th>\n",
       "      <td>1</td>\n",
       "      <td>Ali</td>\n",
       "      <td>Yılmaz</td>\n",
       "      <td>İstanbul</td>\n",
       "      <td>101</td>\n",
       "      <td>Laptop</td>\n",
       "      <td>1</td>\n",
       "      <td>5000</td>\n",
       "      <td>5000</td>\n",
       "    </tr>\n",
       "    <tr>\n",
       "      <th>1</th>\n",
       "      <td>1</td>\n",
       "      <td>Ali</td>\n",
       "      <td>Yılmaz</td>\n",
       "      <td>İstanbul</td>\n",
       "      <td>103</td>\n",
       "      <td>Tablet</td>\n",
       "      <td>1</td>\n",
       "      <td>1500</td>\n",
       "      <td>1500</td>\n",
       "    </tr>\n",
       "    <tr>\n",
       "      <th>2</th>\n",
       "      <td>2</td>\n",
       "      <td>Veli</td>\n",
       "      <td>Can</td>\n",
       "      <td>Ankara</td>\n",
       "      <td>102</td>\n",
       "      <td>Telefon</td>\n",
       "      <td>2</td>\n",
       "      <td>3000</td>\n",
       "      <td>6000</td>\n",
       "    </tr>\n",
       "    <tr>\n",
       "      <th>3</th>\n",
       "      <td>2</td>\n",
       "      <td>Veli</td>\n",
       "      <td>Can</td>\n",
       "      <td>Ankara</td>\n",
       "      <td>105</td>\n",
       "      <td>Telefon</td>\n",
       "      <td>1</td>\n",
       "      <td>3000</td>\n",
       "      <td>3000</td>\n",
       "    </tr>\n",
       "    <tr>\n",
       "      <th>4</th>\n",
       "      <td>3</td>\n",
       "      <td>Ayşe</td>\n",
       "      <td>Demir</td>\n",
       "      <td>İzmir</td>\n",
       "      <td>104</td>\n",
       "      <td>Laptop</td>\n",
       "      <td>1</td>\n",
       "      <td>4500</td>\n",
       "      <td>4500</td>\n",
       "    </tr>\n",
       "    <tr>\n",
       "      <th>5</th>\n",
       "      <td>4</td>\n",
       "      <td>Fatma</td>\n",
       "      <td>Kaya</td>\n",
       "      <td>Bursa</td>\n",
       "      <td>106</td>\n",
       "      <td>Kulaklık</td>\n",
       "      <td>5</td>\n",
       "      <td>200</td>\n",
       "      <td>1000</td>\n",
       "    </tr>\n",
       "  </tbody>\n",
       "</table>\n",
       "</div>"
      ],
      "text/plain": [
       "   MüşteriID     Ad   Soyad     Şehir  SatışID   ÜrünAdı  Miktar  BirimFiyat  \\\n",
       "0          1    Ali  Yılmaz  İstanbul      101    Laptop       1        5000   \n",
       "1          1    Ali  Yılmaz  İstanbul      103    Tablet       1        1500   \n",
       "2          2   Veli     Can    Ankara      102   Telefon       2        3000   \n",
       "3          2   Veli     Can    Ankara      105   Telefon       1        3000   \n",
       "4          3   Ayşe   Demir     İzmir      104    Laptop       1        4500   \n",
       "5          4  Fatma    Kaya     Bursa      106  Kulaklık       5         200   \n",
       "\n",
       "   ToplamHarcama  \n",
       "0           5000  \n",
       "1           1500  \n",
       "2           6000  \n",
       "3           3000  \n",
       "4           4500  \n",
       "5           1000  "
      ]
     },
     "execution_count": 24,
     "metadata": {},
     "output_type": "execute_result"
    }
   ],
   "source": [
    "#Her müşterinin toplam harcaması\n",
    "birlesik_df['ToplamHarcama'] = birlesik_df['Miktar']*birlesik_df['BirimFiyat']\n",
    "birlesik_df"
   ]
  },
  {
   "cell_type": "code",
   "execution_count": 93,
   "id": "384d7880",
   "metadata": {},
   "outputs": [
    {
     "data": {
      "text/plain": [
       "MüşteriID\n",
       "1    6500\n",
       "2    9000\n",
       "3    4500\n",
       "4    1000\n",
       "Name: ToplamHarcama, dtype: int64"
      ]
     },
     "execution_count": 93,
     "metadata": {},
     "output_type": "execute_result"
    }
   ],
   "source": [
    "#Her müşterinin toplam harcamasını yeni bir DataFrame olarak oluşturma\n",
    "toplam_harcama= birlesik_df.groupby('MüşteriID')['ToplamHarcama'].sum()\n",
    "toplam_harcama"
   ]
  },
  {
   "cell_type": "code",
   "execution_count": 26,
   "id": "fa3109a6",
   "metadata": {},
   "outputs": [
    {
     "data": {
      "image/png": "[encoded data removed]",
      "text/plain": [
       "<Figure size 640x480 with 1 Axes>"
      ]
     },
     "metadata": {},
     "output_type": "display_data"
    }
   ],
   "source": [
    "#Veri Görselleştirme\n",
    "year = [1972, 1982, 1992, 2002, 2012]\n",
    "e_india = [100.6, 158.61, 305.54, 394.96, 724.79]\n",
    "e_bangladesh = [10.5, 25.21, 58.65, 119.27, 274.87]\n",
    "\n",
    "#çizgi stilinin biçimlendirilmesi ve koordinatların çizdirilmesi\n",
    "plt.plot(year, e_india, color=\"orange\", marker=\"o\", markersize=12, label=\"India\")\n",
    "\n",
    "plt.plot(year, e_bangladesh, color=\"g\", linestyle=\"dashed\", linewidth=2, label=\"Bangladesh\")\n",
    "\n",
    "plt.xlabel('Years')\n",
    "plt.ylabel('Power consumption in kwh')\n",
    "\n",
    "plt.title('Electricity consumption per / capital of India and Bangladesh')\n",
    "\n",
    "plt.legend()\n",
    "plt.show()"
   ]
  },
  {
   "cell_type": "code",
   "execution_count": null,
   "id": "8da684bd",
   "metadata": {},
   "outputs": [],
   "source": []
  }
 ],
 "metadata": {
  "kernelspec": {
   "display_name": "Python 3 (ipykernel)",
   "language": "python",
   "name": "python3"
  },
  "language_info": {
   "codemirror_mode": {
    "name": "ipython",
    "version": 3
   },
   "file_extension": ".py",
   "mimetype": "text/x-python",
   "name": "python",
   "nbconvert_exporter": "python",
   "pygments_lexer": "ipython3",
   "version": "3.12.4"
  }
 },
 "nbformat": 4,
 "nbformat_minor": 5
}
