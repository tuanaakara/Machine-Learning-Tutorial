{
 "cells": [
  {
   "cell_type": "markdown",
   "id": "716b186c-725f-4d00-9e2a-645453e5c3f7",
   "metadata": {},
   "source": [
    "## Numpy & Pandas"
   ]
  },
  {
   "cell_type": "markdown",
   "id": "098bfc33-a2fc-42e4-ad42-a6eb1f2ae368",
   "metadata": {},
   "source": [
    "3. uygulamamızda Numpy kütüphanesini import ederek bazı fonksiyonlarını öğreneceğiz.\n",
    "\n",
    "Diziler ve matrislerle işlemler yapacağız.\n",
    "\n",
    "Yaptığımız işlemlerin sebebi yoktur, dizileri, matrisleri ve bazı fonksiyonları, outputları görerek öğrenme amacındayız.\n",
    "\n",
    "Sonrasında Pandas kütüphanesini import edeceğiz. Dizileri, sözlükleri seriye dönüştürmeyi öğreneceğiz. Kendimiz seri üreteceğiz.\n",
    "\n"
   ]
  },
  {
   "cell_type": "code",
   "execution_count": 3,
   "id": "d88c7f35",
   "metadata": {},
   "outputs": [
    {
     "data": {
      "text/plain": [
       "array([[ 0,  1,  2,  3],\n",
       "       [ 4,  5,  6,  7],\n",
       "       [ 8,  9, 10, 11]])"
      ]
     },
     "execution_count": 3,
     "metadata": {},
     "output_type": "execute_result"
    }
   ],
   "source": [
    "import numpy as np\n",
    "dizi = np.arange(12).reshape(3,4)  #12 elemanlı 3e 4lük matris\n",
    "dizi"
   ]
  },
  {
   "cell_type": "code",
   "execution_count": 2,
   "id": "fa805e40",
   "metadata": {},
   "outputs": [
    {
     "data": {
      "text/plain": [
       "(3, 4)"
      ]
     },
     "execution_count": 2,
     "metadata": {},
     "output_type": "execute_result"
    }
   ],
   "source": [
    "dizi.shape"
   ]
  },
  {
   "cell_type": "code",
   "execution_count": 3,
   "id": "6c1f45fd",
   "metadata": {},
   "outputs": [
    {
     "data": {
      "text/plain": [
       "dtype('int64')"
      ]
     },
     "execution_count": 3,
     "metadata": {},
     "output_type": "execute_result"
    }
   ],
   "source": [
    "dizi.dtype"
   ]
  },
  {
   "cell_type": "code",
   "execution_count": 4,
   "id": "d5c172db",
   "metadata": {},
   "outputs": [
    {
     "data": {
      "text/plain": [
       "8"
      ]
     },
     "execution_count": 4,
     "metadata": {},
     "output_type": "execute_result"
    }
   ],
   "source": [
    "dizi.itemsize  #elemanların byte'ı"
   ]
  },
  {
   "cell_type": "code",
   "execution_count": 5,
   "id": "9e8e2575",
   "metadata": {},
   "outputs": [
    {
     "data": {
      "text/plain": [
       "2"
      ]
     },
     "execution_count": 5,
     "metadata": {},
     "output_type": "execute_result"
    }
   ],
   "source": [
    "dizi.ndim      #dizinin boyutu"
   ]
  },
  {
   "cell_type": "code",
   "execution_count": 6,
   "id": "86b04825",
   "metadata": {},
   "outputs": [
    {
     "data": {
      "text/plain": [
       "12"
      ]
     },
     "execution_count": 6,
     "metadata": {},
     "output_type": "execute_result"
    }
   ],
   "source": [
    "dizi.size"
   ]
  },
  {
   "cell_type": "code",
   "execution_count": 7,
   "id": "71f93433",
   "metadata": {},
   "outputs": [
    {
     "name": "stdout",
     "output_type": "stream",
     "text": [
      "[[ 0  1  2  3]\n",
      " [ 4  5  6  7]\n",
      " [ 8  9 10 11]]\n"
     ]
    }
   ],
   "source": [
    "print(dizi)"
   ]
  },
  {
   "cell_type": "code",
   "execution_count": 11,
   "id": "508a1cac",
   "metadata": {},
   "outputs": [],
   "source": [
    "a = np.array([1,2,3])\n",
    "b = np.array([[1,2,3], [4,5,6]], dtype=np.float64)   #dype = 'float64'    gibi de yazılabiilir."
   ]
  },
  {
   "cell_type": "code",
   "execution_count": 12,
   "id": "deff072b",
   "metadata": {},
   "outputs": [
    {
     "data": {
      "text/plain": [
       "dtype('int64')"
      ]
     },
     "execution_count": 12,
     "metadata": {},
     "output_type": "execute_result"
    }
   ],
   "source": [
    "a.dtype"
   ]
  },
  {
   "cell_type": "code",
   "execution_count": 17,
   "id": "250a9acb",
   "metadata": {},
   "outputs": [
    {
     "name": "stdout",
     "output_type": "stream",
     "text": [
      "float64\n",
      "3.0\n"
     ]
    }
   ],
   "source": [
    "a = np.array([.1,2,3])    #burada a dizisini güncelledik. ilk elemanımız artık .1 yani bir float. a dizisi de artık bir float.\n",
    "print(a.dtype)\n",
    "print(a[2])"
   ]
  },
  {
   "cell_type": "code",
   "execution_count": 14,
   "id": "3887176f",
   "metadata": {},
   "outputs": [
    {
     "data": {
      "text/plain": [
       "dtype('float64')"
      ]
     },
     "execution_count": 14,
     "metadata": {},
     "output_type": "execute_result"
    }
   ],
   "source": [
    "b.dtype"
   ]
  },
  {
   "cell_type": "code",
   "execution_count": 7,
   "id": "d99a6a84",
   "metadata": {},
   "outputs": [
    {
     "name": "stdout",
     "output_type": "stream",
     "text": [
      "[[0. 0.]\n",
      " [0. 0.]]\n",
      "-------------\n",
      "[[1. 1.]]\n",
      "-------------\n",
      "[[7 7]\n",
      " [7 7]]\n",
      "-------------\n",
      "[[1. 0.]\n",
      " [0. 1.]]\n",
      "-------------\n",
      "[[0.82685873 0.40477227]\n",
      " [0.65230198 0.40546771]]\n"
     ]
    }
   ],
   "source": [
    "a=np.zeros((2,2))\n",
    "print(a)\n",
    "print(\"-------------\")\n",
    "b=a=np.ones((1,2))\n",
    "print(b)\n",
    "print(\"-------------\")\n",
    "c=np.full((2,2), 7)\n",
    "print(c)\n",
    "print(\"-------------\")\n",
    "d=np.eye(2)\n",
    "print(d)\n",
    "print(\"-------------\")\n",
    "e=np.random.random((2,2))  #0-1 arası rastgele sayilardan olusacak\n",
    "print(e)\n"
   ]
  },
  {
   "cell_type": "code",
   "execution_count": 19,
   "id": "f324f0c3",
   "metadata": {},
   "outputs": [
    {
     "data": {
      "text/plain": [
       "array([2, 4, 6, 8])"
      ]
     },
     "execution_count": 19,
     "metadata": {},
     "output_type": "execute_result"
    }
   ],
   "source": [
    "np.arange(2,10,2)    #2 ile 10 arasında 2şer 2şer artarak git"
   ]
  },
  {
   "cell_type": "code",
   "execution_count": 20,
   "id": "04b8bd15",
   "metadata": {},
   "outputs": [
    {
     "data": {
      "text/plain": [
       "array([ 0.  ,  6.25, 12.5 , 18.75, 25.  , 31.25, 37.5 , 43.75, 50.  ])"
      ]
     },
     "execution_count": 20,
     "metadata": {},
     "output_type": "execute_result"
    }
   ],
   "source": [
    "np.linspace(0,50,9)    #9 = Oluşturulacak sayıların toplam sayısıdır. Burada 0 ve 50 arasında 11 tane sayı olacak şekilde eşit aralıklı değerler üretilir."
   ]
  },
  {
   "cell_type": "code",
   "execution_count": 21,
   "id": "53aab4ba",
   "metadata": {},
   "outputs": [
    {
     "data": {
      "text/plain": [
       "array([ 0.,  5., 10., 15., 20., 25., 30., 35., 40., 45., 50.])"
      ]
     },
     "execution_count": 21,
     "metadata": {},
     "output_type": "execute_result"
    }
   ],
   "source": [
    "np.linspace(0,50,11)    #11 = Oluşturulacak sayıların toplam sayısıdır. Burada 0 ve 50 arasında 11 tane sayı olacak şekilde eşit aralıklı değerler üretilir."
   ]
  },
  {
   "cell_type": "code",
   "execution_count": 23,
   "id": "f315b7a7",
   "metadata": {},
   "outputs": [
    {
     "data": {
      "text/plain": [
       "array([[ 40,  74,  55,  95,  77,  57,  86,  74,  91,   8],\n",
       "       [ 90,  65,   1,  44,  61,  33,  49,  63,  41,  22],\n",
       "       [ 65,  15,  72,  90,  56,  96,  74,   2,  81,  86],\n",
       "       [ 97,  43,  13,  71,  31,  68,  58,  21,  32,  64],\n",
       "       [ 16,  54,  32,  32,  21,  84,  96,   5,  31,  36],\n",
       "       [ 82,  25,  82,  74,  51,  72,  46,   9,  31,  85],\n",
       "       [ 32,  98,  36,  56,  25,  83,  76,  89,  65,  35],\n",
       "       [ 18,  93,  73,  93,   7,  16,  43, 100,  44,  18],\n",
       "       [ 60,  90,  71,  46,  92,  45,  31,  98,   4,  53],\n",
       "       [ 42,   6,  59,  20,  21,  48,   1,  34,   6,  82]])"
      ]
     },
     "execution_count": 23,
     "metadata": {},
     "output_type": "execute_result"
    }
   ],
   "source": [
    "matrix = np.random.randint(0, 101, size= (10,10))    #0 ile 101 e kadar olan random sayılardan, 10a 10luk bir matris üret.\n",
    "matrix"
   ]
  },
  {
   "cell_type": "code",
   "execution_count": 25,
   "id": "ebfeb9b2",
   "metadata": {},
   "outputs": [
    {
     "name": "stdout",
     "output_type": "stream",
     "text": [
      "[[ 7. 13.]\n",
      " [ 4. 14.]]\n"
     ]
    }
   ],
   "source": [
    "arr1 = np.array([[4,7], [2,6]], dtype=np.float64)\n",
    "arr2 = np.array([[3,6], [2,8]], dtype=np.float64)\n",
    "sum = np.add(arr1, arr2)                           #2 arrayi toplamak(1. elemanla 1. elemanı, 2. elemanla 2. eleman)\n",
    "print(sum)"
   ]
  },
  {
   "cell_type": "code",
   "execution_count": 26,
   "id": "d216ad9a",
   "metadata": {},
   "outputs": [
    {
     "name": "stdout",
     "output_type": "stream",
     "text": [
      "19.0\n"
     ]
    }
   ],
   "source": [
    "sum_array = np.sum(arr1)             #arrayi toplamak\n",
    "print(sum_array)"
   ]
  },
  {
   "cell_type": "code",
   "execution_count": 28,
   "id": "7ea7bbc3",
   "metadata": {},
   "outputs": [
    {
     "name": "stdout",
     "output_type": "stream",
     "text": [
      "[[2.         2.64575131]\n",
      " [1.41421356 2.44948974]]\n"
     ]
    }
   ],
   "source": [
    "sqrt= np.sqrt(arr1)                 #arrayin sqrt almak\n",
    "print(sqrt)"
   ]
  },
  {
   "cell_type": "code",
   "execution_count": 29,
   "id": "c138abb9",
   "metadata": {},
   "outputs": [
    {
     "name": "stdout",
     "output_type": "stream",
     "text": [
      "[[4. 2.]\n",
      " [7. 6.]]\n"
     ]
    }
   ],
   "source": [
    "trans_arr=arr1.T                    #arrayin transposunu almak (satır-sutun yer degismek)\n",
    "print(trans_arr)"
   ]
  },
  {
   "cell_type": "code",
   "execution_count": 30,
   "id": "c2732293",
   "metadata": {},
   "outputs": [
    {
     "data": {
      "text/plain": [
       "array([ 0,  2,  4,  6,  8, 10, 12, 14, 16, 18])"
      ]
     },
     "execution_count": 30,
     "metadata": {},
     "output_type": "execute_result"
    }
   ],
   "source": [
    "a = np.arange(10)*2\n",
    "a"
   ]
  },
  {
   "cell_type": "code",
   "execution_count": 31,
   "id": "c801be97",
   "metadata": {},
   "outputs": [
    {
     "data": {
      "text/plain": [
       "array([50,  2,  4, 50,  8, 10, 50, 14, 16, 18])"
      ]
     },
     "execution_count": 31,
     "metadata": {},
     "output_type": "execute_result"
    }
   ],
   "source": [
    "a[:9:3] = 50  #0. 3. 9. indexe 50 atadı\n",
    "a"
   ]
  },
  {
   "cell_type": "code",
   "execution_count": 32,
   "id": "44540431",
   "metadata": {},
   "outputs": [
    {
     "data": {
      "text/plain": [
       "array([[False, False],\n",
       "       [ True,  True],\n",
       "       [ True,  True]])"
      ]
     },
     "execution_count": 32,
     "metadata": {},
     "output_type": "execute_result"
    }
   ],
   "source": [
    "a = np.array([[1,2], [3,4], [5,6]])\n",
    "bool_idx = a>2\n",
    "bool_idx"
   ]
  },
  {
   "cell_type": "code",
   "execution_count": 33,
   "id": "a5d20720",
   "metadata": {},
   "outputs": [
    {
     "data": {
      "text/plain": [
       "array([3, 4, 5, 6])"
      ]
     },
     "execution_count": 33,
     "metadata": {},
     "output_type": "execute_result"
    }
   ],
   "source": [
    "a[bool_idx]    #koşulu sağlayan elemanları yazdırma"
   ]
  },
  {
   "cell_type": "code",
   "execution_count": 34,
   "id": "3dc4a701",
   "metadata": {},
   "outputs": [
    {
     "name": "stdout",
     "output_type": "stream",
     "text": [
      "[3 4 5 6]\n"
     ]
    }
   ],
   "source": [
    "#veya aynı islem daha kisa sekilde de yapilabilir:\n",
    "print(a[a>2])"
   ]
  },
  {
   "cell_type": "code",
   "execution_count": 35,
   "id": "4d1c0447",
   "metadata": {},
   "outputs": [
    {
     "data": {
      "text/plain": [
       "array([[2, 4, 6],\n",
       "       [7, 1, 9],\n",
       "       [8, 3, 2],\n",
       "       [1, 6, 0]])"
      ]
     },
     "execution_count": 35,
     "metadata": {},
     "output_type": "execute_result"
    }
   ],
   "source": [
    "a = np.array([[2,4,6], [7,1,9]])\n",
    "b = np.array([[8,3,2], [1,6,0]])\n",
    "np.vstack((a,b))    #2 diziyi 1 matriste vertical(dikey) birleştirme"
   ]
  },
  {
   "cell_type": "code",
   "execution_count": 36,
   "id": "e775b1b2",
   "metadata": {},
   "outputs": [
    {
     "data": {
      "text/plain": [
       "array([[2, 4, 6, 8, 3, 2],\n",
       "       [7, 1, 9, 1, 6, 0]])"
      ]
     },
     "execution_count": 36,
     "metadata": {},
     "output_type": "execute_result"
    }
   ],
   "source": [
    "np.hstack((a,b))     #2 diziyi 1 matriste horizontal(yatay) birleştirme"
   ]
  },
  {
   "cell_type": "code",
   "execution_count": 40,
   "id": "0d349fe5",
   "metadata": {},
   "outputs": [
    {
     "name": "stdout",
     "output_type": "stream",
     "text": [
      "[[ 6.  8.]\n",
      " [10. 12.]]\n",
      "----\n",
      "[[-4. -4.]\n",
      " [-4. -4.]]\n",
      "----\n",
      "[[ 5. 12.]\n",
      " [21. 32.]]\n",
      "----\n",
      "[[0.2        0.33333333]\n",
      " [0.42857143 0.5       ]]\n",
      "----\n",
      "[[1.         1.41421356]\n",
      " [1.73205081 2.        ]]\n"
     ]
    }
   ],
   "source": [
    "a = np.array([[1,2], [3,4]], dtype=np.float64)\n",
    "b = np.array([[5,6], [7,8]], dtype=np.float64)\n",
    "print(np.add(a,b))\n",
    "print(\"----\")\n",
    "print(np.subtract(a,b))\n",
    "print(\"----\")\n",
    "print(np.multiply(a,b))\n",
    "print(\"----\")\n",
    "print(np.divide(a,b))\n",
    "print(\"----\")\n",
    "print(np.sqrt(a))"
   ]
  },
  {
   "cell_type": "markdown",
   "id": "0c40cf7b",
   "metadata": {},
   "source": [
    "matrislerde dot fonksiyonu kullanarak işlem yaparız"
   ]
  },
  {
   "cell_type": "code",
   "execution_count": 45,
   "id": "99230956",
   "metadata": {},
   "outputs": [
    {
     "data": {
      "text/plain": [
       "array([[18, 43, 31,  2, 40],\n",
       "       [46, 38, 13, 30, 36],\n",
       "       [45, 47,  7,  7, 41],\n",
       "       [27, 40, 38, 18, 32],\n",
       "       [46, 36, 33, 18, 47]])"
      ]
     },
     "execution_count": 45,
     "metadata": {},
     "output_type": "execute_result"
    }
   ],
   "source": [
    "matrix = np.random.randint(1, 51, size= (5,5))\n",
    "matrix"
   ]
  },
  {
   "cell_type": "code",
   "execution_count": 74,
   "id": "6496b422",
   "metadata": {},
   "outputs": [
    {
     "data": {
      "text/plain": [
       "array([182, 204, 122,  75, 196])"
      ]
     },
     "execution_count": 74,
     "metadata": {},
     "output_type": "execute_result"
    }
   ],
   "source": [
    "sutun_sum = np.sum(matrix, axis=0)      #sütun       \n",
    "sutun_sum  "
   ]
  },
  {
   "cell_type": "code",
   "execution_count": 53,
   "id": "ec9d4366",
   "metadata": {},
   "outputs": [
    {
     "data": {
      "text/plain": [
       "array([134, 163, 147, 155, 180])"
      ]
     },
     "execution_count": 53,
     "metadata": {},
     "output_type": "execute_result"
    }
   ],
   "source": [
    "satir_sum = np.sum(matrix, axis=1)      #satır   \n",
    "satir_sum  "
   ]
  },
  {
   "cell_type": "code",
   "execution_count": null,
   "id": "71fd9df8-850c-4aa2-8068-50fd11fde04c",
   "metadata": {},
   "outputs": [],
   "source": [
    "#numpyda 0 sütunu, 1 ise satırı ifade eder.\n",
    "#Fakat pandasta tam tersidir."
   ]
  },
  {
   "cell_type": "code",
   "execution_count": 59,
   "id": "68c1abbe",
   "metadata": {},
   "outputs": [
    {
     "data": {
      "text/plain": [
       "array([[38, 13, 30],\n",
       "       [47,  7,  7],\n",
       "       [40, 38, 18]])"
      ]
     },
     "execution_count": 59,
     "metadata": {},
     "output_type": "execute_result"
    }
   ],
   "source": [
    "matrix2 = matrix[1:4, 1:4]\n",
    "matrix2"
   ]
  },
  {
   "cell_type": "code",
   "execution_count": 66,
   "id": "89c4e3b8",
   "metadata": {},
   "outputs": [
    {
     "data": {
      "text/plain": [
       "7"
      ]
     },
     "execution_count": 66,
     "metadata": {},
     "output_type": "execute_result"
    }
   ],
   "source": [
    "min_element=np.amin(matrix2)    #np.amin fonksiyonu, bir NumPy dizisinin (array) en küçük değerini bulur."
   ]
  },
  {
   "cell_type": "code",
   "execution_count": 67,
   "id": "712a4073",
   "metadata": {},
   "outputs": [
    {
     "data": {
      "text/plain": [
       "47"
      ]
     },
     "execution_count": 67,
     "metadata": {},
     "output_type": "execute_result"
    }
   ],
   "source": [
    "max_element=np.amax(matrix2)    #np.amin fonksiyonu, bir NumPy dizisinin (array) en büyük değerini bulur"
   ]
  },
  {
   "cell_type": "code",
   "execution_count": 76,
   "id": "4d8a3f83",
   "metadata": {},
   "outputs": [
    {
     "data": {
      "text/plain": [
       "array([47, 47, 46, 46, 45, 43, 41, 40, 40, 38, 38, 36, 36, 33, 32, 31, 30,\n",
       "       27, 18, 18, 18, 13,  7,  7,  2])"
      ]
     },
     "execution_count": 76,
     "metadata": {},
     "output_type": "execute_result"
    }
   ],
   "source": [
    "sorted_matrix = np.sort(matrix,axis=None)[::-1]    #dizi elemanlarını büyükten küçüğe sıralar\n",
    "#sorted_matrix = np.sort(matrix)\n",
    "sorted_matrix\n",
    "\n",
    "\n",
    "#axis=None, diziyi çok boyutlu olsa bile tek boyutlu bir dizi gibi ele alır ve tüm elemanları düzleştirip sıralar.\n",
    "#[::-1] bu slicing tekniği, sıralı dizinin elemanlarını ters çevirir. (büyükten küçüğe olur)"
   ]
  },
  {
   "cell_type": "code",
   "execution_count": 77,
   "id": "1b661c5e",
   "metadata": {},
   "outputs": [
    {
     "data": {
      "text/plain": [
       "array([[ 6, 91, 49, 32, 27, 95, 31, 43, 45, 96],\n",
       "       [12, 23,  0, 31, 26,  7, 86, 23, 45, 34],\n",
       "       [ 8,  7, 77, 30, 22, 79, 29, 32, 62, 25],\n",
       "       [69, 18, 49, 83, 54, 54, 33, 59, 62, 67],\n",
       "       [44, 61, 81, 24, 37, 99,  9, 80, 65, 78],\n",
       "       [16, 48, 34, 78, 67, 76, 20, 25, 71, 64],\n",
       "       [90, 88, 30, 26,  3, 30, 30, 39, 92, 35],\n",
       "       [56, 31, 19, 41,  7, 87, 10, 20, 13, 76],\n",
       "       [40, 69, 54, 29, 69, 23, 41, 57, 12, 82],\n",
       "       [39, 11, 78, 29, 32, 21, 90, 64, 57,  3]])"
      ]
     },
     "execution_count": 77,
     "metadata": {},
     "output_type": "execute_result"
    }
   ],
   "source": [
    "#1\n",
    "matrix = np.random.randint(0, 100, size= (10,10))\n",
    "matrix"
   ]
  },
  {
   "cell_type": "code",
   "execution_count": 85,
   "id": "e047c156",
   "metadata": {},
   "outputs": [
    {
     "data": {
      "text/plain": [
       "array([9, 6, 5, 3, 5, 3, 8, 5, 9, 6])"
      ]
     },
     "execution_count": 85,
     "metadata": {},
     "output_type": "execute_result"
    }
   ],
   "source": [
    "#2\n",
    "matrix_satir=np.argmax(matrix, axis=1)    #np.argmax fonksiyonu, bir NumPy dizisinde en büyük değerin indeksini döndürür\n",
    "matrix_satir"
   ]
  },
  {
   "cell_type": "code",
   "execution_count": 86,
   "id": "f4242837",
   "metadata": {},
   "outputs": [
    {
     "data": {
      "text/plain": [
       "array([6, 0, 4, 3, 8, 4, 9, 4, 6, 0])"
      ]
     },
     "execution_count": 86,
     "metadata": {},
     "output_type": "execute_result"
    }
   ],
   "source": [
    "#2\n",
    "matrix_sutun=np.argmax(matrix, axis=0)\n",
    "matrix_sutun"
   ]
  },
  {
   "cell_type": "code",
   "execution_count": 95,
   "id": "5e86c9e8",
   "metadata": {},
   "outputs": [
    {
     "data": {
      "text/plain": [
       "array([[ 6, -1, -1, 32, -1, -1, -1, -1, -1, 96],\n",
       "       [12, -1,  0, -1, 26, -1, 86, -1, -1, 34],\n",
       "       [ 8, -1, -1, 30, 22, -1, -1, 32, 62, -1],\n",
       "       [-1, 18, -1, -1, 54, 54, -1, -1, 62, -1],\n",
       "       [44, -1, -1, 24, -1, -1, -1, 80, -1, 78],\n",
       "       [16, 48, 34, 78, -1, 76, 20, -1, -1, 64],\n",
       "       [90, 88, 30, 26, -1, 30, 30, -1, 92, -1],\n",
       "       [56, -1, -1, -1, -1, -1, 10, 20, -1, 76],\n",
       "       [40, -1, 54, -1, -1, -1, -1, -1, 12, 82],\n",
       "       [-1, -1, 78, -1, 32, -1, 90, 64, -1, -1]])"
      ]
     },
     "execution_count": 95,
     "metadata": {},
     "output_type": "execute_result"
    }
   ],
   "source": [
    "#3\n",
    "matrix[matrix%2==1] = -1    #tek sayıların yerine -1 değeri atama\n",
    "matrix"
   ]
  },
  {
   "cell_type": "code",
   "execution_count": 105,
   "id": "82a1db06",
   "metadata": {},
   "outputs": [
    {
     "data": {
      "text/plain": [
       "array([[-1, -1, 96],\n",
       "       [-1, -1, 34],\n",
       "       [32, 62, -1]])"
      ]
     },
     "execution_count": 105,
     "metadata": {},
     "output_type": "execute_result"
    }
   ],
   "source": [
    "#4\n",
    "matrix2 = matrix[:3, -3:]    #matrisin ilk 3 satırı ve son üç sütununu seç\n",
    "matrix2"
   ]
  },
  {
   "cell_type": "code",
   "execution_count": 106,
   "id": "014f9dcf",
   "metadata": {},
   "outputs": [
    {
     "data": {
      "text/plain": [
       "array([ 30,  60, 129])"
      ]
     },
     "execution_count": 106,
     "metadata": {},
     "output_type": "execute_result"
    }
   ],
   "source": [
    "#5\n",
    "sutun_sum = np.sum(matrix2, axis=0)             \n",
    "sutun_sum  "
   ]
  },
  {
   "cell_type": "code",
   "execution_count": 107,
   "id": "55c5f980",
   "metadata": {},
   "outputs": [
    {
     "data": {
      "text/plain": [
       "array([94, 32, 93])"
      ]
     },
     "execution_count": 107,
     "metadata": {},
     "output_type": "execute_result"
    }
   ],
   "source": [
    "#5\n",
    "satir_sum = np.sum(matrix2, axis=1)             \n",
    "satir_sum"
   ]
  },
  {
   "cell_type": "code",
   "execution_count": 108,
   "id": "d8836d20",
   "metadata": {},
   "outputs": [
    {
     "data": {
      "text/plain": [
       "array([28.25597282, 28.66722868, 27.22664136, 24.17126393, 18.62149296,\n",
       "       26.94086116, 34.00720512, 28.83747562, 33.72476835, 38.61139728])"
      ]
     },
     "execution_count": 108,
     "metadata": {},
     "output_type": "execute_result"
    }
   ],
   "source": [
    "#6\n",
    "std_dev = np.std(matrix, axis=0)  #sütunlar boyunca standart sapma bulma\n",
    "std_dev"
   ]
  },
  {
   "cell_type": "code",
   "execution_count": 109,
   "id": "d6da2b40",
   "metadata": {},
   "outputs": [
    {
     "data": {
      "text/plain": [
       "array([[-15.43, -22.43, -22.43,  10.57, -22.43, -22.43, -22.43, -22.43,\n",
       "        -22.43,  74.57],\n",
       "       [ -9.43, -22.43, -21.43, -22.43,   4.57, -22.43,  64.57, -22.43,\n",
       "        -22.43,  12.57],\n",
       "       [-13.43, -22.43, -22.43,   8.57,   0.57, -22.43, -22.43,  10.57,\n",
       "         40.57, -22.43],\n",
       "       [-22.43,  -3.43, -22.43, -22.43,  32.57,  32.57, -22.43, -22.43,\n",
       "         40.57, -22.43],\n",
       "       [ 22.57, -22.43, -22.43,   2.57, -22.43, -22.43, -22.43,  58.57,\n",
       "        -22.43,  56.57],\n",
       "       [ -5.43,  26.57,  12.57,  56.57, -22.43,  54.57,  -1.43, -22.43,\n",
       "        -22.43,  42.57],\n",
       "       [ 68.57,  66.57,   8.57,   4.57, -22.43,   8.57,   8.57, -22.43,\n",
       "         70.57, -22.43],\n",
       "       [ 34.57, -22.43, -22.43, -22.43, -22.43, -22.43, -11.43,  -1.43,\n",
       "        -22.43,  54.57],\n",
       "       [ 18.57, -22.43,  32.57, -22.43, -22.43, -22.43, -22.43, -22.43,\n",
       "         -9.43,  60.57],\n",
       "       [-22.43, -22.43,  56.57, -22.43,  10.57, -22.43,  68.57,  42.57,\n",
       "        -22.43, -22.43]])"
      ]
     },
     "execution_count": 109,
     "metadata": {},
     "output_type": "execute_result"
    }
   ],
   "source": [
    "#7\n",
    "matrix_mean= np.mean(matrix)\n",
    "centered_matrix= matrix - matrix_mean\n",
    "print(\"Ortalama:\", matrix_mean)\n",
    "print(\"Merkezlenmiş Matris:\\n\", centered_matrix)\n"
   ]
  },
  {
   "cell_type": "code",
   "execution_count": 112,
   "id": "53a6aca0",
   "metadata": {},
   "outputs": [
    {
     "data": {
      "text/plain": [
       "Ali        5\n",
       "Ahmet     54\n",
       "Mehmet    12\n",
       "Veli      22\n",
       "Arda      15\n",
       "Doruk     87\n",
       "dtype: int64"
      ]
     },
     "execution_count": 112,
     "metadata": {},
     "output_type": "execute_result"
    }
   ],
   "source": [
    "import pandas as pd\n",
    "indisler = ['Ali', 'Ahmet', 'Mehmet', 'Veli', 'Arda', 'Doruk']\n",
    "degerler=[5,54,12,22,15,87]\n",
    "a=pd.Series(degerler, index=indisler)\n",
    "a"
   ]
  },
  {
   "cell_type": "code",
   "execution_count": 132,
   "id": "71ab47ef",
   "metadata": {},
   "outputs": [
    {
     "name": "stdout",
     "output_type": "stream",
     "text": [
      "Mehmet    12\n",
      "Arda      15\n",
      "Ali        5\n",
      "dtype: int64\n"
     ]
    },
    {
     "data": {
      "text/plain": [
       "pandas.core.series.Series"
      ]
     },
     "execution_count": 132,
     "metadata": {},
     "output_type": "execute_result"
    }
   ],
   "source": [
    "import pandas as pd\n",
    "indisler = ['Ali', 'Ahmet', 'Mehmet', 'Veli', 'Arda', 'Doruk']\n",
    "degerler=[5,54,12,22,15,87]\n",
    "a=pd.Series(degerler, index=indisler)\n",
    "print(a[['Mehmet', 'Arda', 'Ali']])\n",
    "\n",
    "type(a)"
   ]
  },
  {
   "cell_type": "code",
   "execution_count": 121,
   "id": "fa1f8075",
   "metadata": {},
   "outputs": [
    {
     "name": "stdout",
     "output_type": "stream",
     "text": [
      "Ali        27\n",
      "Ahmet     272\n",
      "Mehmet     62\n",
      "Veli      112\n",
      "Arda       77\n",
      "Doruk     437\n",
      "dtype: int64\n",
      "Ali       2.236068\n",
      "Ahmet     7.348469\n",
      "Mehmet    3.464102\n",
      "Veli      4.690416\n",
      "Arda      3.872983\n",
      "Doruk     9.327379\n",
      "dtype: float64\n"
     ]
    }
   ],
   "source": [
    "print(a*5+2)\n",
    "print(np.sqrt(a))"
   ]
  },
  {
   "cell_type": "code",
   "execution_count": 134,
   "id": "d9e16f25",
   "metadata": {},
   "outputs": [
    {
     "name": "stdout",
     "output_type": "stream",
     "text": [
      "Ahmet    54\n",
      "Doruk    87\n",
      "dtype: int64\n"
     ]
    }
   ],
   "source": [
    "print(a[a>50])"
   ]
  },
  {
   "cell_type": "code",
   "execution_count": 135,
   "id": "6fda41dc",
   "metadata": {},
   "outputs": [
    {
     "data": {
      "text/html": [
       "<div>\n",
       "<style scoped>\n",
       "    .dataframe tbody tr th:only-of-type {\n",
       "        vertical-align: middle;\n",
       "    }\n",
       "\n",
       "    .dataframe tbody tr th {\n",
       "        vertical-align: top;\n",
       "    }\n",
       "\n",
       "    .dataframe thead th {\n",
       "        text-align: right;\n",
       "    }\n",
       "</style>\n",
       "<table border=\"1\" class=\"dataframe\">\n",
       "  <thead>\n",
       "    <tr style=\"text-align: right;\">\n",
       "      <th></th>\n",
       "      <th>isim</th>\n",
       "      <th>not</th>\n",
       "      <th>yas</th>\n",
       "    </tr>\n",
       "  </thead>\n",
       "  <tbody>\n",
       "    <tr>\n",
       "      <th>0</th>\n",
       "      <td>Ali</td>\n",
       "      <td>5</td>\n",
       "      <td>21</td>\n",
       "    </tr>\n",
       "    <tr>\n",
       "      <th>1</th>\n",
       "      <td>Ahmet</td>\n",
       "      <td>54</td>\n",
       "      <td>24</td>\n",
       "    </tr>\n",
       "    <tr>\n",
       "      <th>2</th>\n",
       "      <td>Mehmet</td>\n",
       "      <td>12</td>\n",
       "      <td>18</td>\n",
       "    </tr>\n",
       "    <tr>\n",
       "      <th>3</th>\n",
       "      <td>Veli</td>\n",
       "      <td>22</td>\n",
       "      <td>28</td>\n",
       "    </tr>\n",
       "    <tr>\n",
       "      <th>4</th>\n",
       "      <td>Arda</td>\n",
       "      <td>15</td>\n",
       "      <td>20</td>\n",
       "    </tr>\n",
       "    <tr>\n",
       "      <th>5</th>\n",
       "      <td>Doruk</td>\n",
       "      <td>87</td>\n",
       "      <td>22</td>\n",
       "    </tr>\n",
       "  </tbody>\n",
       "</table>\n",
       "</div>"
      ],
      "text/plain": [
       "     isim  not  yas\n",
       "0     Ali    5   21\n",
       "1   Ahmet   54   24\n",
       "2  Mehmet   12   18\n",
       "3    Veli   22   28\n",
       "4    Arda   15   20\n",
       "5   Doruk   87   22"
      ]
     },
     "execution_count": 135,
     "metadata": {},
     "output_type": "execute_result"
    }
   ],
   "source": [
    "ogrenciler = {\n",
    "    'isim' : ['Ali', 'Ahmet', 'Mehmet', 'Veli', 'Arda', 'Doruk'],\n",
    "    'not'  : [5,54,12,22,15,87],\n",
    "    'yas'  : [21,24,18,28,20,22]}\n",
    "\n",
    "a=pd.DataFrame(ogrenciler)\n",
    "a"
   ]
  },
  {
   "cell_type": "code",
   "execution_count": 136,
   "id": "2618aa97",
   "metadata": {},
   "outputs": [
    {
     "name": "stdout",
     "output_type": "stream",
     "text": [
      "0      7.5\n",
      "1     81.0\n",
      "2     18.0\n",
      "3     33.0\n",
      "4     22.5\n",
      "5    130.5\n",
      "Name: not, dtype: float64\n",
      "133\n"
     ]
    }
   ],
   "source": [
    "print(a['not']*1.5)\n",
    "print(a['yas'].sum())"
   ]
  },
  {
   "cell_type": "code",
   "execution_count": 140,
   "id": "cb522dc1",
   "metadata": {},
   "outputs": [
    {
     "data": {
      "text/html": [
       "<div>\n",
       "<style scoped>\n",
       "    .dataframe tbody tr th:only-of-type {\n",
       "        vertical-align: middle;\n",
       "    }\n",
       "\n",
       "    .dataframe tbody tr th {\n",
       "        vertical-align: top;\n",
       "    }\n",
       "\n",
       "    .dataframe thead th {\n",
       "        text-align: right;\n",
       "    }\n",
       "</style>\n",
       "<table border=\"1\" class=\"dataframe\">\n",
       "  <thead>\n",
       "    <tr style=\"text-align: right;\">\n",
       "      <th></th>\n",
       "      <th>isim</th>\n",
       "      <th>not</th>\n",
       "      <th>yas</th>\n",
       "      <th>giris</th>\n",
       "    </tr>\n",
       "  </thead>\n",
       "  <tbody>\n",
       "    <tr>\n",
       "      <th>0</th>\n",
       "      <td>Ali</td>\n",
       "      <td>5</td>\n",
       "      <td>21</td>\n",
       "      <td>NaN</td>\n",
       "    </tr>\n",
       "    <tr>\n",
       "      <th>1</th>\n",
       "      <td>Ahmet</td>\n",
       "      <td>54</td>\n",
       "      <td>24</td>\n",
       "      <td>NaN</td>\n",
       "    </tr>\n",
       "    <tr>\n",
       "      <th>2</th>\n",
       "      <td>Mehmet</td>\n",
       "      <td>12</td>\n",
       "      <td>18</td>\n",
       "      <td>NaN</td>\n",
       "    </tr>\n",
       "    <tr>\n",
       "      <th>3</th>\n",
       "      <td>Veli</td>\n",
       "      <td>22</td>\n",
       "      <td>28</td>\n",
       "      <td>NaN</td>\n",
       "    </tr>\n",
       "    <tr>\n",
       "      <th>4</th>\n",
       "      <td>Arda</td>\n",
       "      <td>15</td>\n",
       "      <td>20</td>\n",
       "      <td>NaN</td>\n",
       "    </tr>\n",
       "    <tr>\n",
       "      <th>5</th>\n",
       "      <td>Doruk</td>\n",
       "      <td>87</td>\n",
       "      <td>22</td>\n",
       "      <td>NaN</td>\n",
       "    </tr>\n",
       "  </tbody>\n",
       "</table>\n",
       "</div>"
      ],
      "text/plain": [
       "     isim  not  yas giris\n",
       "0     Ali    5   21   NaN\n",
       "1   Ahmet   54   24   NaN\n",
       "2  Mehmet   12   18   NaN\n",
       "3    Veli   22   28   NaN\n",
       "4    Arda   15   20   NaN\n",
       "5   Doruk   87   22   NaN"
      ]
     },
     "execution_count": 140,
     "metadata": {},
     "output_type": "execute_result"
    }
   ],
   "source": [
    "a=pd.DataFrame(ogrenciler, columns=['isim', 'not', 'yas', 'giris'])\n",
    "a"
   ]
  },
  {
   "cell_type": "code",
   "execution_count": 141,
   "id": "c297331e",
   "metadata": {},
   "outputs": [
    {
     "data": {
      "text/html": [
       "<div>\n",
       "<style scoped>\n",
       "    .dataframe tbody tr th:only-of-type {\n",
       "        vertical-align: middle;\n",
       "    }\n",
       "\n",
       "    .dataframe tbody tr th {\n",
       "        vertical-align: top;\n",
       "    }\n",
       "\n",
       "    .dataframe thead th {\n",
       "        text-align: right;\n",
       "    }\n",
       "</style>\n",
       "<table border=\"1\" class=\"dataframe\">\n",
       "  <thead>\n",
       "    <tr style=\"text-align: right;\">\n",
       "      <th></th>\n",
       "      <th>0</th>\n",
       "      <th>1</th>\n",
       "      <th>2</th>\n",
       "      <th>3</th>\n",
       "      <th>4</th>\n",
       "      <th>5</th>\n",
       "    </tr>\n",
       "  </thead>\n",
       "  <tbody>\n",
       "    <tr>\n",
       "      <th>isim</th>\n",
       "      <td>Ali</td>\n",
       "      <td>Ahmet</td>\n",
       "      <td>Mehmet</td>\n",
       "      <td>Veli</td>\n",
       "      <td>Arda</td>\n",
       "      <td>Doruk</td>\n",
       "    </tr>\n",
       "    <tr>\n",
       "      <th>not</th>\n",
       "      <td>5</td>\n",
       "      <td>54</td>\n",
       "      <td>12</td>\n",
       "      <td>22</td>\n",
       "      <td>15</td>\n",
       "      <td>87</td>\n",
       "    </tr>\n",
       "    <tr>\n",
       "      <th>yas</th>\n",
       "      <td>21</td>\n",
       "      <td>24</td>\n",
       "      <td>18</td>\n",
       "      <td>28</td>\n",
       "      <td>20</td>\n",
       "      <td>22</td>\n",
       "    </tr>\n",
       "    <tr>\n",
       "      <th>giris</th>\n",
       "      <td>NaN</td>\n",
       "      <td>NaN</td>\n",
       "      <td>NaN</td>\n",
       "      <td>NaN</td>\n",
       "      <td>NaN</td>\n",
       "      <td>NaN</td>\n",
       "    </tr>\n",
       "  </tbody>\n",
       "</table>\n",
       "</div>"
      ],
      "text/plain": [
       "         0      1       2     3     4      5\n",
       "isim   Ali  Ahmet  Mehmet  Veli  Arda  Doruk\n",
       "not      5     54      12    22    15     87\n",
       "yas     21     24      18    28    20     22\n",
       "giris  NaN    NaN     NaN   NaN   NaN    NaN"
      ]
     },
     "execution_count": 141,
     "metadata": {},
     "output_type": "execute_result"
    }
   ],
   "source": [
    "a.T"
   ]
  },
  {
   "cell_type": "code",
   "execution_count": null,
   "id": "20211d61",
   "metadata": {},
   "outputs": [],
   "source": []
  }
 ],
 "metadata": {
  "kernelspec": {
   "display_name": "Python 3 (ipykernel)",
   "language": "python",
   "name": "python3"
  },
  "language_info": {
   "codemirror_mode": {
    "name": "ipython",
    "version": 3
   },
   "file_extension": ".py",
   "mimetype": "text/x-python",
   "name": "python",
   "nbconvert_exporter": "python",
   "pygments_lexer": "ipython3",
   "version": "3.12.4"
  }
 },
 "nbformat": 4,
 "nbformat_minor": 5
}
