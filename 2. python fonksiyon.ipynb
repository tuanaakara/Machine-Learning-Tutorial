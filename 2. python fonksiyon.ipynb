{
 "cells": [
  {
   "cell_type": "markdown",
   "id": "7e901d15-3449-424b-a5e4-85182580c436",
   "metadata": {},
   "source": [
    "### Fonksiyon yazma\n"
   ]
  },
  {
   "cell_type": "markdown",
   "id": "aa11cde0-bae4-46fc-ab2e-baa6655eea2a",
   "metadata": {},
   "source": [
    "2. uygulamamızda fonksiyonlar yazacağız.\n",
    "\n",
    "Fonksiyondaki argümanları değiştirerek otuputları göreceğiz.\n",
    "\n",
    "Sonrasında dictionary veri yapısını göreceğiz.\n",
    "\n",
    "Inheritance ve Try Except kalıbını da birer örneklerle anlayacağız.\n",
    "\n"
   ]
  },
  {
   "cell_type": "code",
   "execution_count": 1,
   "id": "3c82e12f",
   "metadata": {},
   "outputs": [
    {
     "name": "stdout",
     "output_type": "stream",
     "text": [
      "39\n",
      "8\n"
     ]
    }
   ],
   "source": [
    "def topla (sayi1, sayi2):\n",
    "    print(sayi1+sayi2)\n",
    "    \n",
    "topla(sayi1=34, sayi2=5)\n",
    "topla(sayi2=5, sayi1=3)"
   ]
  },
  {
   "cell_type": "code",
   "execution_count": 2,
   "id": "bd767fb8",
   "metadata": {},
   "outputs": [
    {
     "name": "stdout",
     "output_type": "stream",
     "text": [
      "39\n",
      "41\n"
     ]
    }
   ],
   "source": [
    "def topla (sayi1, sayi2=7):\n",
    "    print(sayi1+sayi2)\n",
    "    \n",
    "topla(sayi1=34, sayi2=5)\n",
    "topla(sayi1=34)"
   ]
  },
  {
   "cell_type": "code",
   "execution_count": 8,
   "id": "8b2f2e8d",
   "metadata": {},
   "outputs": [
    {
     "name": "stdout",
     "output_type": "stream",
     "text": [
      "<class 'tuple'>\n",
      "83\n"
     ]
    }
   ],
   "source": [
    "def topla (*sayilar):\n",
    "    toplam=0\n",
    "    print(type(sayilar))  \n",
    "    \n",
    "    for i in sayilar:\n",
    "        toplam+=i\n",
    "    return toplam\n",
    "\n",
    "toplam=topla(5,6,3,21,48)\n",
    "print(toplam)\n",
    "\n",
    "# Burdaki * operatörü fonksiyona kaç tane argüman geçileceğini önceden bilmediğiniz durumlarda kullanılır.\n",
    "# Ayrıca fonksiyona birden fazla argüman geçirildiğinde, bu argümanları bir tuple içinde toplar."
   ]
  },
  {
   "cell_type": "code",
   "execution_count": 9,
   "id": "104e16e6",
   "metadata": {},
   "outputs": [
    {
     "name": "stdout",
     "output_type": "stream",
     "text": [
      "Su an ana fonksiyon govdesindesiniz...\n",
      "Su an yavru fonksiyon govdesindesiniz...\n"
     ]
    },
    {
     "ename": "NameError",
     "evalue": "name 'fonkYavru' is not defined",
     "output_type": "error",
     "traceback": [
      "\u001b[0;31m---------------------------------------------------------------------------\u001b[0m",
      "\u001b[0;31mNameError\u001b[0m                                 Traceback (most recent call last)",
      "Cell \u001b[0;32mIn[9], line 8\u001b[0m\n\u001b[1;32m      5\u001b[0m     fonkYavru()\n\u001b[1;32m      7\u001b[0m fonkAna()\n\u001b[0;32m----> 8\u001b[0m fonkYavru()\n",
      "\u001b[0;31mNameError\u001b[0m: name 'fonkYavru' is not defined"
     ]
    }
   ],
   "source": [
    "def fonkAna():\n",
    "    print(\"Su an ana fonksiyon govdesindesiniz...\")\n",
    "    def fonkYavru():\n",
    "        print(\"Su an yavru fonksiyon govdesindesiniz...\")\n",
    "    fonkYavru()\n",
    "    \n",
    "fonkAna()\n",
    "fonkYavru()  #fonkAna'nın dışında bu fonksiyonu kullanamayız.\n"
   ]
  },
  {
   "cell_type": "code",
   "execution_count": 10,
   "id": "6d38c196",
   "metadata": {},
   "outputs": [
    {
     "name": "stdout",
     "output_type": "stream",
     "text": [
      "10\n"
     ]
    }
   ],
   "source": [
    "topla= lambda sayi1, sayi2: sayi1+sayi2   \n",
    "print(topla(7,3))\n",
    "\n",
    "#lambda fonksiyonu -->> tek satirlik fonksiyonlardır. \n",
    "#kullanılırken yazım sıralaması şöyle olmalıdır: lambda - parametreler - fonksiyon gövdesi"
   ]
  },
  {
   "cell_type": "code",
   "execution_count": 1,
   "id": "8bc58a5e",
   "metadata": {},
   "outputs": [
    {
     "name": "stdout",
     "output_type": "stream",
     "text": [
      "buyuk harf sayisi:  5\n",
      "kucuk harf sayisi:  4\n"
     ]
    }
   ],
   "source": [
    "#büyük-küçük harf sayısı bulma\n",
    "def findUpper(cumle):\n",
    "    buyuk_sayac=0\n",
    "    kucuk_sayac=0\n",
    "    \n",
    "    for i in cumle: \n",
    "        if i.isupper(): \n",
    "            buyuk_sayac+=1\n",
    "        elif i.islower():\n",
    "            kucuk_sayac+=1\n",
    "        else:\n",
    "            pass    #karşılaşılan karakter harf değilse -->> pass\n",
    "  \n",
    "    print(\"buyuk harf sayisi: \", buyuk_sayac)\n",
    "    print(\"kucuk harf sayisi: \", kucuk_sayac)\n",
    "\n",
    "findUpper('Tuana KARA')"
   ]
  },
  {
   "cell_type": "code",
   "execution_count": 11,
   "id": "af2fa37a",
   "metadata": {},
   "outputs": [
    {
     "name": "stdout",
     "output_type": "stream",
     "text": [
      "toplam 3 ve fark -1 \n"
     ]
    }
   ],
   "source": [
    "def calculation(sayi1, sayi2):\n",
    "    toplam=sayi1+sayi2\n",
    "    fark=sayi1-sayi2\n",
    "    sonuc=print(\"toplam {} ve fark {} \".format( toplam, fark))\n",
    "    return(sonuc)\n",
    "\n",
    "calculation(1,2)"
   ]
  },
  {
   "cell_type": "code",
   "execution_count": 12,
   "id": "cd944f87",
   "metadata": {},
   "outputs": [
    {
     "name": "stdout",
     "output_type": "stream",
     "text": [
      "<class 'dict'>\n"
     ]
    }
   ],
   "source": [
    "sozluk = {'Ali': 123, 'Veli': 345, 'Selami': 34, 'Ayşe':65, 'Fatma': 79}\n",
    "print(type(sozluk))"
   ]
  },
  {
   "cell_type": "code",
   "execution_count": 13,
   "id": "8c4dc4ca",
   "metadata": {},
   "outputs": [
    {
     "name": "stdout",
     "output_type": "stream",
     "text": [
      "{'Ali': [25, 45, 89], 'Veli': ('a', 'b'), 'Selami': 34, 'Ayşe': 65, 'Fatma': 79}\n"
     ]
    }
   ],
   "source": [
    "sozluk = {'Ali': [25,45,89], 'Veli': ('a', 'b'), 'Selami': 34, 'Ayşe':65, 'Fatma': 79}\n",
    "print(sozluk)"
   ]
  },
  {
   "cell_type": "code",
   "execution_count": 15,
   "id": "567e7082",
   "metadata": {},
   "outputs": [
    {
     "name": "stdout",
     "output_type": "stream",
     "text": [
      "5\n",
      "[25, 45, 89]\n"
     ]
    }
   ],
   "source": [
    "sozluk = {'Ali': [25,45,89], 'Veli': ('a', 'b'), 'Selami': 34, 'Ayşe':65, 'Fatma': 79}\n",
    "print(len(sozluk))\n",
    "print(sozluk['Ali'])"
   ]
  },
  {
   "cell_type": "code",
   "execution_count": 16,
   "id": "d6dc9e98",
   "metadata": {},
   "outputs": [
    {
     "name": "stdout",
     "output_type": "stream",
     "text": [
      "{'name': 'John', 'age': 36}\n"
     ]
    }
   ],
   "source": [
    "thisdict = dict(name = \"John\", age=36)   #dict fonksiyonuyla da sozluk olusturulabilir\n",
    "print(thisdict)"
   ]
  },
  {
   "cell_type": "code",
   "execution_count": 19,
   "id": "e08036ac",
   "metadata": {},
   "outputs": [
    {
     "name": "stdout",
     "output_type": "stream",
     "text": [
      "{'ad': 'ali', 'yas': 40, 'memleketi': 'konya', 'Ayşe': 65, 'Fatma': 79}\n",
      "{'ad': 'ali', 'yas': 45, 'memleketi': 'konya', 'Ayşe': 65, 'Fatma': 79}\n",
      "{'ad': 'ali', 'yas': 45, 'memleketi': 'konya', 'Ayşe': 65, 'Fatma': 79, 'adres': 'nisantasi'}\n",
      "{'ad': 'ali', 'memleketi': 'konya', 'Ayşe': 65, 'Fatma': 79, 'adres': 'nisantasi'}\n",
      "{'ad': 'ali', 'memleketi': 'konya', 'Ayşe': 65, 'Fatma': 79}\n"
     ]
    }
   ],
   "source": [
    "kisi_bilgileri = {'ad': 'ali', 'yas': 40, 'memleketi': 'konya', 'Ayşe':65, 'Fatma': 79}\n",
    "print(kisi_bilgileri)\n",
    "\n",
    "#deger degistirme\n",
    "kisi_bilgileri['yas'] = 45\n",
    "print(kisi_bilgileri)\n",
    "\n",
    "#deger ekleme\n",
    "kisi_bilgileri['adres'] = 'nisantasi'\n",
    "print(kisi_bilgileri)\n",
    "\n",
    "#eleman silme\n",
    "kisi_bilgileri.pop('yas')\n",
    "print(kisi_bilgileri)\n",
    "\n",
    "#sonuncu elemanı silme\n",
    "kisi_bilgileri.popitem()\n",
    "print(kisi_bilgileri)"
   ]
  },
  {
   "cell_type": "code",
   "execution_count": 3,
   "id": "ee1ac72b",
   "metadata": {},
   "outputs": [
    {
     "name": "stdout",
     "output_type": "stream",
     "text": [
      "Adana\n",
      "34\n",
      "doktor\n",
      "31\n"
     ]
    }
   ],
   "source": [
    "#ic ice sozlükler\n",
    "kisiler = {\"Ahmet Ozkoparan\": {\"memleket\": \"Istanbul\",\n",
    "                               \"meslek\": \"ogretmen\",\n",
    "                               \"yas\": 34},\n",
    "           \n",
    "           \"Mehmet Yagiz\"   : {\"memleket\": \"Adana\",\n",
    "                               \"meslek\": \"mühendis\",\n",
    "                               \"yas\": 40},\n",
    "           \n",
    "           \"Seda Bayrak\"    : {\"memleket\": \"Iskenderun\",\n",
    "                               \"meslek\": \"doktor\",\n",
    "                                \"yas\": 30}}  \n",
    "\n",
    "print(kisiler[\"Mehmet Yagiz\"][\"memleket\"])\n",
    "print(kisiler[\"Ahmet Ozkoparan\"][\"yas\"])\n",
    "print(kisiler[\"Seda Bayrak\"][\"meslek\"])\n",
    "kisiler[\"Seda Bayrak\"][\"yas\"] = 31  #kisiler.update({'Seda Bayrak' : 31}) olarak da yazılabilir.\n",
    "print(kisiler[\"Seda Bayrak\"][\"yas\"])\n"
   ]
  },
  {
   "cell_type": "code",
   "execution_count": 27,
   "id": "7e890387",
   "metadata": {},
   "outputs": [
    {
     "name": "stdout",
     "output_type": "stream",
     "text": [
      "1\n",
      "2\n",
      "3\n",
      "4\n",
      "5\n",
      "----\n",
      "1\n",
      "2\n",
      "3\n",
      "4\n",
      "5\n",
      "----\n",
      "ali\n",
      "veli\n",
      "selami\n",
      "ayse\n",
      "fatma\n",
      "----\n",
      "ali\n",
      "veli\n",
      "selami\n",
      "ayse\n",
      "fatma\n",
      "----\n",
      "1 ali\n",
      "2 veli\n",
      "3 selami\n",
      "4 ayse\n",
      "5 fatma\n",
      "----\n"
     ]
    },
    {
     "data": {
      "text/plain": [
       "dict_values(['ali', 'veli', 'selami', 'ayse', 'fatma'])"
      ]
     },
     "execution_count": 27,
     "metadata": {},
     "output_type": "execute_result"
    }
   ],
   "source": [
    "sozluk = {1: 'ali', 2: 'veli', 3: 'selami', 4:'ayse', 5: 'fatma'}\n",
    "for i in sozluk:\n",
    "    print(i)\n",
    "print(\"----\")\n",
    "    \n",
    "for i in sozluk.keys():\n",
    "    print(i)\n",
    "print(\"----\")\n",
    "\n",
    "for i in sozluk.values():\n",
    "    print(i)\n",
    "print(\"----\")  \n",
    "    \n",
    "for i in sozluk:\n",
    "    print(sozluk[i])\n",
    "print(\"----\")\n",
    "\n",
    "for i,j in sozluk.items():\n",
    "    print(i,j)\n",
    "print(\"----\")\n",
    "\n",
    "sozluk.keys()\n",
    "#sozluk.values()\n"
   ]
  },
  {
   "cell_type": "raw",
   "id": "5e4eaa1a-3758-4bb7-9a12-e7ccb71cf87c",
   "metadata": {},
   "source": [
    "EK BILGI; mesela\n",
    "#from tensorflow import keras\n",
    "burada tensorflow paket(package), keras ise modüldür(module)\n",
    ".py uzantılı butun dosyalara modul deriz"
   ]
  },
  {
   "cell_type": "code",
   "execution_count": 4,
   "id": "00e9bf0b",
   "metadata": {},
   "outputs": [
    {
     "name": "stdout",
     "output_type": "stream",
     "text": [
      "Benim adim Boncuk ve ben 5 yasindayim.\n"
     ]
    }
   ],
   "source": [
    "#kalıtım olusturma ornegi (inheritance)\n",
    "class Animal():\n",
    "    def __init__(self, name, age):\n",
    "        self.name=name\n",
    "        self.age=age\n",
    "    \n",
    "    def speak(self):\n",
    "        print(\"Benim adim\", self.name, \"ve ben\", self.age, \"yasindayim.\")\n",
    "        \n",
    "class Dog(Animal):\n",
    "    def __init__(self, name, age):  #dog class icin speak metodu miras alinmistir.\n",
    "        self.name=name\n",
    "        self.age=age\n",
    "        self.type=\"dog\"\n",
    "        \n",
    "tim=Dog(\"Boncuk\", 5)\n",
    "tim.speak()\n",
    "\n",
    "#self.name = name ifadesinde, self.name -->> sınıf örneğinin name adlı özelliğini (attribute) ifade ederken,\n",
    "#sağ taraftaki name genellikle fonksiyona geçirilen bir argümanı temsil eder.\n",
    "#Bu yapı, fonksiyonun argümanlarını sınıf örneğinin özelliklerinden ayırt eder."
   ]
  },
  {
   "cell_type": "code",
   "execution_count": 3,
   "id": "8ebf56e9",
   "metadata": {},
   "outputs": [
    {
     "name": "stdout",
     "output_type": "stream",
     "text": [
      "Birinci sayiyi giriniz: 1\n",
      "Ikinci sayiyi giriniz: 0\n",
      "Sifira bolme hatasi!\n",
      "Birinci sayiyi giriniz: 1\n",
      "Ikinci sayiyi giriniz: t\n",
      "Gecersiz sayi girisi!\n",
      "Islem tamamlandi. Finally blogu calisti\n"
     ]
    }
   ],
   "source": [
    "def divide_numbers(num1, num2):\n",
    "    try:\n",
    "        result=num1/num2\n",
    "        print(\"Sonuc:\", result)\n",
    "    except ZeroDivisionError:\n",
    "        print(\"Sifira bolme hatasi!\")\n",
    "    except TypeError:\n",
    "        print(\"Tip hatasi! 2 sayiya bolmeniz gerekiyor.\")\n",
    "    except Exception as e:\n",
    "        print(\"Bir hata olustu:\", str(e))\n",
    "    else:\n",
    "        print(\"Istisna olusmadi. Else blogu calisti\")\n",
    "    finally:\n",
    "        print(\"Islem tamamlandi. Finally blogu calisti\")\n",
    "        \n",
    "#divide_numbers(1,0) \n",
    "\n"
   ]
  },
  {
   "cell_type": "code",
   "execution_count": null,
   "id": "787f2ceb",
   "metadata": {},
   "outputs": [
    {
     "name": "stdout",
     "output_type": "stream",
     "text": [
      "Birinci sayiyi giriniz: 1\n",
      "Ikinci sayiyi giriniz: 0\n",
      "Sifira bolme hatasi!\n",
      "Birinci sayiyi giriniz: 1\n",
      "Ikinci sayiyi giriniz: 0\n",
      "Sifira bolme hatasi!\n"
     ]
    }
   ],
   "source": [
    "def sayi():\n",
    "    try:\n",
    "        num1=int(input(\"Birinci sayiyi giriniz: \"))\n",
    "        num2=int(input(\"Ikinci sayiyi giriniz: \"))\n",
    "        divide_numbers(num1,num2)\n",
    "    except ValueError:\n",
    "        print(\"Gecersiz sayi girisi!\")\n",
    "        \n",
    "sayi()\n",
    "# mesela t girince gecersiz sayi girisi yazdiriliyor "
   ]
  },
  {
   "cell_type": "code",
   "execution_count": null,
   "id": "d19af98d",
   "metadata": {},
   "outputs": [],
   "source": []
  }
 ],
 "metadata": {
  "kernelspec": {
   "display_name": "Python 3 (ipykernel)",
   "language": "python",
   "name": "python3"
  },
  "language_info": {
   "codemirror_mode": {
    "name": "ipython",
    "version": 3
   },
   "file_extension": ".py",
   "mimetype": "text/x-python",
   "name": "python",
   "nbconvert_exporter": "python",
   "pygments_lexer": "ipython3",
   "version": "3.12.4"
  }
 },
 "nbformat": 4,
 "nbformat_minor": 5
}
